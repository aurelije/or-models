{
 "cells": [
  {
   "metadata": {},
   "cell_type": "markdown",
   "source": [
    "# Unit commitment problem II - Thermal Power Station\n",
    "\n",
    "Inspired by example from book Einführung in Optimirungsmodelle from Nathan Sudermann-Merx page 127\n",
    "\n",
    "Problem statement:\n",
    "\n",
    "> Every hour, a Thermal power station must decide how much energy to produce. Demand for energy is known upfront and has to be respected. Station has a maximum production capacity of 500 MW and a minimum production capacity of 100 MW. The station can ramp up or down its production by at most 120 MW per hour. If the station is turned off, it must stay off for at least 8 hours. The variable production cost is 40 EUR/MWh and the start-up cost is 50,000 EUR. The goal is to minimize the total cost of production while respecting the demand and operational constraints."
   ],
   "id": "5db8bb0fe9db1cf9"
  },
  {
   "cell_type": "code",
   "id": "initial_id",
   "metadata": {
    "collapsed": true,
    "ExecuteTime": {
     "end_time": "2025-06-24T10:28:21.581606Z",
     "start_time": "2025-06-24T10:28:21.578013Z"
    }
   },
   "source": [
    "import polars as pl\n",
    "import pyoframe as pf\n",
    "\n",
    "demand = pl.read_csv('demand.csv').with_row_index('hours')\n",
    "demand\n"
   ],
   "outputs": [
    {
     "data": {
      "text/plain": [
       "shape: (24, 2)\n",
       "┌───────┬────────────┐\n",
       "│ hours ┆ demand     │\n",
       "│ ---   ┆ ---        │\n",
       "│ u32   ┆ f64        │\n",
       "╞═══════╪════════════╡\n",
       "│ 0     ┆ 310.0      │\n",
       "│ 1     ┆ 322.352381 │\n",
       "│ 2     ┆ 401.5      │\n",
       "│ 3     ┆ 424.388348 │\n",
       "│ 4     ┆ 455.253175 │\n",
       "│ …     ┆ …          │\n",
       "│ 19    ┆ 206.259272 │\n",
       "│ 20    ┆ 265.746825 │\n",
       "│ 21    ┆ 189.611652 │\n",
       "│ 22    ┆ 265.5      │\n",
       "│ 23    ┆ 287.647619 │\n",
       "└───────┴────────────┘"
      ],
      "text/html": [
       "<div><style>\n",
       ".dataframe > thead > tr,\n",
       ".dataframe > tbody > tr {\n",
       "  text-align: right;\n",
       "  white-space: pre-wrap;\n",
       "}\n",
       "</style>\n",
       "<small>shape: (24, 2)</small><table border=\"1\" class=\"dataframe\"><thead><tr><th>hours</th><th>demand</th></tr><tr><td>u32</td><td>f64</td></tr></thead><tbody><tr><td>0</td><td>310.0</td></tr><tr><td>1</td><td>322.352381</td></tr><tr><td>2</td><td>401.5</td></tr><tr><td>3</td><td>424.388348</td></tr><tr><td>4</td><td>455.253175</td></tr><tr><td>&hellip;</td><td>&hellip;</td></tr><tr><td>19</td><td>206.259272</td></tr><tr><td>20</td><td>265.746825</td></tr><tr><td>21</td><td>189.611652</td></tr><tr><td>22</td><td>265.5</td></tr><tr><td>23</td><td>287.647619</td></tr></tbody></table></div>"
      ]
     },
     "execution_count": 23,
     "metadata": {},
     "output_type": "execute_result"
    }
   ],
   "execution_count": 23
  },
  {
   "metadata": {},
   "cell_type": "markdown",
   "source": "Minimum and maximum production of the power plant",
   "id": "40860cc913b97e1c"
  },
  {
   "metadata": {
    "ExecuteTime": {
     "end_time": "2025-06-24T10:28:21.611356Z",
     "start_time": "2025-06-24T10:28:21.609815Z"
    }
   },
   "cell_type": "code",
   "source": [
    "P_max = 500\n",
    "P_min = 100"
   ],
   "id": "fbf1eaa889520dbe",
   "outputs": [],
   "execution_count": 24
  },
  {
   "metadata": {},
   "cell_type": "markdown",
   "source": "Maximum ramping rate",
   "id": "5ef6e08ce601f051"
  },
  {
   "metadata": {
    "ExecuteTime": {
     "end_time": "2025-06-24T10:28:21.705639Z",
     "start_time": "2025-06-24T10:28:21.704141Z"
    }
   },
   "cell_type": "code",
   "source": "delta_max = 120",
   "id": "902b0a34f1d9dc38",
   "outputs": [],
   "execution_count": 25
  },
  {
   "metadata": {},
   "cell_type": "markdown",
   "source": "Minimum downtime",
   "id": "4704ed6104888d14"
  },
  {
   "metadata": {
    "ExecuteTime": {
     "end_time": "2025-06-24T10:28:21.771704Z",
     "start_time": "2025-06-24T10:28:21.770384Z"
    }
   },
   "cell_type": "code",
   "source": "L_min = 8",
   "id": "d3f0a1b2cab4cbee",
   "outputs": [],
   "execution_count": 26
  },
  {
   "metadata": {},
   "cell_type": "markdown",
   "source": "Variable production costs",
   "id": "a42940d2dc66a978"
  },
  {
   "metadata": {
    "ExecuteTime": {
     "end_time": "2025-06-24T10:28:21.892553Z",
     "start_time": "2025-06-24T10:28:21.890519Z"
    }
   },
   "cell_type": "code",
   "source": "c = 40",
   "id": "ad395b91b65f3d83",
   "outputs": [],
   "execution_count": 27
  },
  {
   "metadata": {},
   "cell_type": "markdown",
   "source": "Start-up costs",
   "id": "b6ff1c24e4b900c4"
  },
  {
   "metadata": {
    "ExecuteTime": {
     "end_time": "2025-06-24T10:28:21.959857Z",
     "start_time": "2025-06-24T10:28:21.958348Z"
    }
   },
   "cell_type": "code",
   "source": "S = 50000",
   "id": "ab6c5fd1fdef364e",
   "outputs": [],
   "execution_count": 28
  },
  {
   "metadata": {},
   "cell_type": "markdown",
   "source": "Optimization model",
   "id": "cbcfd0cde309cf0f"
  },
  {
   "metadata": {
    "ExecuteTime": {
     "end_time": "2025-06-24T10:28:22.032463Z",
     "start_time": "2025-06-24T10:28:22.030254Z"
    }
   },
   "cell_type": "code",
   "source": "m = pf.Model(\"unit commitment problem\", solver='highs', use_var_names=True)",
   "id": "3df8417b93ae9db6",
   "outputs": [
    {
     "name": "stdout",
     "output_type": "stream",
     "text": [
      "Running HiGHS 1.11.0 (git hash: 364c83a): Copyright (c) 2025 HiGHS under MIT licence terms\n"
     ]
    }
   ],
   "execution_count": 29
  },
  {
   "metadata": {},
   "cell_type": "markdown",
   "source": [
    "Decision variables:\n",
    "\n",
    "Power production at each hour, `P`, is a continuous variable with upper bound `P_max`."
   ],
   "id": "b58cf26ae5599626"
  },
  {
   "metadata": {
    "ExecuteTime": {
     "end_time": "2025-06-24T10:28:22.065290Z",
     "start_time": "2025-06-24T10:28:22.062091Z"
    }
   },
   "cell_type": "code",
   "source": "m.P = pf.Variable(demand[['hours']], lb=0, ub=P_max)",
   "id": "af2bff1a18d6f251",
   "outputs": [],
   "execution_count": 30
  },
  {
   "metadata": {},
   "cell_type": "markdown",
   "source": "on/off status of the power plant at each hour, `Y`, is a binary variable.",
   "id": "5f7debeac2237b96"
  },
  {
   "metadata": {
    "ExecuteTime": {
     "end_time": "2025-06-24T10:28:22.103589Z",
     "start_time": "2025-06-24T10:28:22.100468Z"
    }
   },
   "cell_type": "code",
   "source": "m.Y = pf.Variable(demand[['hours']], vtype=pf.VType.BINARY)",
   "id": "2deb690019a5028e",
   "outputs": [],
   "execution_count": 31
  },
  {
   "metadata": {},
   "cell_type": "markdown",
   "source": "on switch",
   "id": "65eb0d0cbe9fdbc8"
  },
  {
   "metadata": {
    "ExecuteTime": {
     "end_time": "2025-06-24T10:28:22.146129Z",
     "start_time": "2025-06-24T10:28:22.142346Z"
    }
   },
   "cell_type": "code",
   "source": "m.Delta_on = pf.Variable(demand[['hours']], vtype=pf.VType.BINARY)#%% md",
   "id": "8ccb7b08be8235ec",
   "outputs": [],
   "execution_count": 32
  },
  {
   "metadata": {},
   "cell_type": "markdown",
   "source": "off switch",
   "id": "dbe9fd8a60270a33"
  },
  {
   "metadata": {
    "ExecuteTime": {
     "end_time": "2025-06-24T10:28:22.188939Z",
     "start_time": "2025-06-24T10:28:22.185951Z"
    }
   },
   "cell_type": "code",
   "source": "m.Delta_off = pf.Variable(demand[['hours']], vtype=pf.VType.BINARY)",
   "id": "fae63b2483989439",
   "outputs": [],
   "execution_count": 33
  },
  {
   "metadata": {},
   "cell_type": "markdown",
   "source": [
    "Constraints:\n",
    "\n",
    "Fix the status variable for the first hour to 1 (the plant is on at the beginning)."
   ],
   "id": "9cd03e6143ad440c"
  },
  {
   "metadata": {
    "ExecuteTime": {
     "end_time": "2025-06-24T10:28:22.236803Z",
     "start_time": "2025-06-24T10:28:22.232553Z"
    }
   },
   "cell_type": "code",
   "source": "m.initial_status = m.Y.filter(pl.col('hours') == demand['hours'].min()) == 1",
   "id": "e414ae5546cfe167",
   "outputs": [],
   "execution_count": 34
  },
  {
   "metadata": {},
   "cell_type": "markdown",
   "source": "Cover the demand at each hour with the power production.",
   "id": "1f185a94e510f1b6"
  },
  {
   "metadata": {
    "ExecuteTime": {
     "end_time": "2025-06-24T10:28:22.291420Z",
     "start_time": "2025-06-24T10:28:22.286498Z"
    }
   },
   "cell_type": "code",
   "source": "m.cover_the_demand = m.P >= demand",
   "id": "eb47e34d897243c",
   "outputs": [],
   "execution_count": 35
  },
  {
   "metadata": {},
   "cell_type": "markdown",
   "source": "The power production must be within the limits of the power plant when plant is on.",
   "id": "90a3c3d9daaee7f"
  },
  {
   "metadata": {
    "ExecuteTime": {
     "end_time": "2025-06-24T10:28:22.356587Z",
     "start_time": "2025-06-24T10:28:22.349606Z"
    }
   },
   "cell_type": "code",
   "source": "m.production_limits = P_min * m.Y <= m.P <= m.Y * P_max",
   "id": "10710fbf9debacd8",
   "outputs": [],
   "execution_count": 36
  },
  {
   "metadata": {},
   "cell_type": "markdown",
   "source": [
    "The power plant cannot be switched on and off at the same hour.\n",
    "\n",
    "NOTE: check if this is needed at all. Yes it is needed, otherwise the link_status_and_switches could have both Delta_on and Delta_off equal to 1 at the same hour while stil satisfying the link_status_and_switches constraint. But since we have minimisation problem starting and stopping in the same hour would certanly increase the cost so it is not optimal."
   ],
   "id": "9d67fa9c222a1f26"
  },
  {
   "metadata": {
    "ExecuteTime": {
     "end_time": "2025-06-24T10:28:22.434648Z",
     "start_time": "2025-06-24T10:28:22.428770Z"
    }
   },
   "cell_type": "code",
   "source": "m.turn_on_and_off_exclusive = m.Delta_on + m.Delta_off <= 1",
   "id": "7dc5193f10b42472",
   "outputs": [],
   "execution_count": 37
  },
  {
   "metadata": {},
   "cell_type": "markdown",
   "source": "Link the on/off status of the power plant and turning the switch from on to off and vice versa.",
   "id": "ff51ea9a5d52c51a"
  },
  {
   "metadata": {
    "ExecuteTime": {
     "end_time": "2025-06-24T10:34:46.191937Z",
     "start_time": "2025-06-24T10:34:46.179347Z"
    }
   },
   "cell_type": "code",
   "source": [
    "m.link_status_and_switches = (\n",
    "        m.Y.next('hours') - m.Y.drop_unmatched()\n",
    "    == m.Delta_on.next('hours') - m.Delta_off.next('hours')\n",
    ")"
   ],
   "id": "7fd63705111bc9ba",
   "outputs": [],
   "execution_count": 46
  },
  {
   "metadata": {},
   "cell_type": "markdown",
   "source": "Minimal downtime constraint: if the plant is turned on, it must stay on for at least `L_min` hours.",
   "id": "21033aadad78e3e3"
  },
  {
   "metadata": {},
   "cell_type": "code",
   "outputs": [],
   "execution_count": null,
   "source": "L_min * m.Delta_on <= (1 - m.Y).rolling_sum()",
   "id": "80b899f05a3335d4"
  },
  {
   "metadata": {},
   "cell_type": "markdown",
   "source": "Objective function: minimize the total cost, which is the sum of variable production costs and start-up costs.",
   "id": "2a830287abe2428"
  },
  {
   "metadata": {
    "ExecuteTime": {
     "end_time": "2025-06-24T10:34:58.223193Z",
     "start_time": "2025-06-24T10:34:58.213513Z"
    }
   },
   "cell_type": "code",
   "source": [
    "m.minimize = pf.sum(\n",
    "    c * m.P + S * m.Delta_on)"
   ],
   "id": "b55c59ed2c6dc4d7",
   "outputs": [
    {
     "name": "stdout",
     "output_type": "stream",
     "text": [
      "Hessian has dimension 97 but no nonzeros, so is ignored\n"
     ]
    }
   ],
   "execution_count": 47
  },
  {
   "metadata": {
    "ExecuteTime": {
     "end_time": "2025-06-24T10:35:22.378825Z",
     "start_time": "2025-06-24T10:35:22.374189Z"
    }
   },
   "cell_type": "code",
   "source": "m.optimize()",
   "id": "34446e4f45601803",
   "outputs": [
    {
     "name": "stdout",
     "output_type": "stream",
     "text": [
      "MIP  has 96 rows; 97 cols; 262 nonzeros; 72 integer variables (72 binary)\n",
      "Coefficient ranges:\n",
      "  Matrix [1e+00, 5e+02]\n",
      "  Cost   [4e+01, 5e+04]\n",
      "  Bound  [1e+00, 5e+02]\n",
      "  RHS    [0e+00, 0e+00]\n",
      "Presolving model\n",
      "93 rows, 93 cols, 207 nonzeros  0s\n",
      "0 rows, 0 cols, 0 nonzeros  0s\n",
      "Presolve: Optimal\n",
      "\n",
      "Src: B => Branching; C => Central rounding; F => Feasibility pump; J => Feasibility jump;\n",
      "     H => Heuristic; L => Sub-MIP; P => Empty MIP; R => Randomized rounding; Z => ZI Round;\n",
      "     I => Shifting; S => Solve LP; T => Evaluate node; U => Unbounded; X => User solution;\n",
      "     z => Trivial zero; l => Trivial lower; u => Trivial upper; p => Trivial point\n",
      "\n",
      "        Nodes      |    B&B Tree     |            Objective Bounds              |  Dynamic Constraints |       Work      \n",
      "Src  Proc. InQueue |  Leaves   Expl. | BestBound       BestSol              Gap |   Cuts   InLp Confl. | LpIters     Time\n",
      "\n",
      "         0       0         0   0.00%   307040          307040             0.00%        0      0      0         0     0.0s\n",
      "\n",
      "Solving report\n",
      "  Status            Optimal\n",
      "  Primal bound      307040\n",
      "  Dual bound        307040\n",
      "  Gap               0% (tolerance: 0.01%)\n",
      "  P-D integral      0\n",
      "  Solution status   feasible\n",
      "                    307040 (objective)\n",
      "                    0 (bound viol.)\n",
      "                    0 (int. viol.)\n",
      "                    0 (row viol.)\n",
      "  Timing            0.00 (total)\n",
      "                    0.00 (presolve)\n",
      "                    0.00 (solve)\n",
      "                    0.00 (postsolve)\n",
      "  Max sub-MIP depth 0\n",
      "  Nodes             0\n",
      "  Repair LPs        0 (0 feasible; 0 iterations)\n",
      "  LP iterations     0 (total)\n",
      "                    0 (strong br.)\n",
      "                    0 (separation)\n",
      "                    0 (heuristics)\n"
     ]
    }
   ],
   "execution_count": 48
  },
  {
   "metadata": {
    "ExecuteTime": {
     "end_time": "2025-06-24T10:37:15.697295Z",
     "start_time": "2025-06-24T10:37:15.691794Z"
    }
   },
   "cell_type": "code",
   "source": "m.P.solution",
   "id": "805e10e44bbea42",
   "outputs": [
    {
     "data": {
      "text/plain": [
       "shape: (24, 2)\n",
       "┌───────┬────────────┐\n",
       "│ hours ┆ solution   │\n",
       "│ ---   ┆ ---        │\n",
       "│ u32   ┆ f64        │\n",
       "╞═══════╪════════════╡\n",
       "│ 0     ┆ 310.0      │\n",
       "│ 1     ┆ 322.352381 │\n",
       "│ 2     ┆ 401.5      │\n",
       "│ 3     ┆ 424.388348 │\n",
       "│ 4     ┆ 455.253175 │\n",
       "│ …     ┆ …          │\n",
       "│ 19    ┆ 206.259272 │\n",
       "│ 20    ┆ 265.746825 │\n",
       "│ 21    ┆ 189.611652 │\n",
       "│ 22    ┆ 265.5      │\n",
       "│ 23    ┆ 287.647619 │\n",
       "└───────┴────────────┘"
      ],
      "text/html": [
       "<div><style>\n",
       ".dataframe > thead > tr,\n",
       ".dataframe > tbody > tr {\n",
       "  text-align: right;\n",
       "  white-space: pre-wrap;\n",
       "}\n",
       "</style>\n",
       "<small>shape: (24, 2)</small><table border=\"1\" class=\"dataframe\"><thead><tr><th>hours</th><th>solution</th></tr><tr><td>u32</td><td>f64</td></tr></thead><tbody><tr><td>0</td><td>310.0</td></tr><tr><td>1</td><td>322.352381</td></tr><tr><td>2</td><td>401.5</td></tr><tr><td>3</td><td>424.388348</td></tr><tr><td>4</td><td>455.253175</td></tr><tr><td>&hellip;</td><td>&hellip;</td></tr><tr><td>19</td><td>206.259272</td></tr><tr><td>20</td><td>265.746825</td></tr><tr><td>21</td><td>189.611652</td></tr><tr><td>22</td><td>265.5</td></tr><tr><td>23</td><td>287.647619</td></tr></tbody></table></div>"
      ]
     },
     "execution_count": 50,
     "metadata": {},
     "output_type": "execute_result"
    }
   ],
   "execution_count": 50
  }
 ],
 "metadata": {
  "kernelspec": {
   "display_name": "Python 3",
   "language": "python",
   "name": "python3"
  },
  "language_info": {
   "codemirror_mode": {
    "name": "ipython",
    "version": 2
   },
   "file_extension": ".py",
   "mimetype": "text/x-python",
   "name": "python",
   "nbconvert_exporter": "python",
   "pygments_lexer": "ipython2",
   "version": "2.7.6"
  }
 },
 "nbformat": 4,
 "nbformat_minor": 5
}
