{
 "cells": [
  {
   "metadata": {},
   "cell_type": "markdown",
   "source": [
    "# Unit commitment problem I - Pumped storage\n",
    "\n",
    "Inspired by example from book Einführung in Optimirungsmodelle from Nathan Sudermann-Merx page 120\n",
    "\n",
    "Problem statement:\n",
    "\n",
    "> Every hour, a [pumped hydro plant](https://en.wikipedia.org/wiki/Pumped-storage_hydroelectricity) can choose to _either_ pump water uphill or generate power from its turbine by letting water run downhill. At the start of the year, the reservoir contains 300 MWh of energy. At the end of the year, it must return to this amount (such that the model is more realistic of the constraints of multi-year operation). The reservoir can never go below 100 MWh and its maximal energy storage capacity is 630 MWh. When the pump is on, it draws 70 MW of power and has a 75% efficiency. The turbine can output anywhere between 0 and 90 MW of power (when the pump is not in use). Given the cost of electricity at every hour, find the pump and turbine \"schedule\" that would maximize operational profits (turbine energy sold - pump energy bought).\n",
    "\n",
    "The input data is using real electricity prices from the German and Luxembourg market stored in `elspot-prices_2021_hourly_eur.csv`.\n",
    "\n"
   ],
   "id": "fe8789f3b2482f55"
  },
  {
   "metadata": {
    "ExecuteTime": {
     "end_time": "2025-06-25T16:06:34.584736Z",
     "start_time": "2025-06-25T16:06:34.258514Z"
    }
   },
   "cell_type": "code",
   "source": [
    "import polars as pl\n",
    "import pyoframe as pf\n",
    "from pathlib import Path"
   ],
   "id": "79cde3d8ddfea06f",
   "outputs": [],
   "execution_count": 1
  },
  {
   "metadata": {},
   "cell_type": "markdown",
   "source": [
    "Read hourly prices from CSV file and return a DataFrame.\n",
    "Special attention is paid to properly parse daylight saving time (DST) changes."
   ],
   "id": "778911e0ec186e1a"
  },
  {
   "metadata": {
    "ExecuteTime": {
     "end_time": "2025-06-25T16:06:34.694973Z",
     "start_time": "2025-06-25T16:06:34.692775Z"
    }
   },
   "cell_type": "code",
   "source": [
    "def read_hourly_prices():\n",
    "    df = pl.read_csv(\n",
    "        Path(\"./elspot-prices_2021_hourly_eur.csv\"),\n",
    "        try_parse_dates=True,\n",
    "    ).drop_nulls(subset=[\"DE-LU\"])\n",
    "\n",
    "    df = df.select(\n",
    "        pl.datetime(\n",
    "            pl.col(\"Date\").dt.year(),\n",
    "            pl.col(\"Date\").dt.month(),\n",
    "            pl.col(\"Date\").dt.day(),\n",
    "            pl.col(\"Hours\").str.slice(0, 2).cast(pl.Int32),\n",
    "            time_zone=\"Europe/Prague\",\n",
    "            ambiguous=pl.when(\n",
    "                pl.concat_str(pl.col(\"Date\"), pl.col(\"Hours\")).is_first_distinct()\n",
    "            )\n",
    "            .then(pl.lit(\"earliest\"))\n",
    "            .otherwise(pl.lit(\"latest\")),\n",
    "        ).alias(\"tick\"),\n",
    "        pl.col(\"DE-LU\").str.replace(\",\", \".\", literal=True).cast(float).alias(\"price\"),\n",
    "    )\n",
    "\n",
    "    return df"
   ],
   "id": "20207edca62824d3",
   "outputs": [],
   "execution_count": 2
  },
  {
   "metadata": {},
   "cell_type": "markdown",
   "source": "Read input data and set parameters",
   "id": "f7d46ad5c389892c"
  },
  {
   "metadata": {
    "ExecuteTime": {
     "end_time": "2025-06-25T16:06:34.719371Z",
     "start_time": "2025-06-25T16:06:34.703681Z"
    }
   },
   "cell_type": "code",
   "source": [
    "hourly_prices = read_hourly_prices()\n",
    "pump_max, turb_max = 70, 90\n",
    "storage_min, storage_max = 100, 630\n",
    "storage_level_init_and_final = 300\n",
    "efficiency = 0.75"
   ],
   "id": "f82bd0f1c4c3d553",
   "outputs": [],
   "execution_count": 3
  },
  {
   "metadata": {
    "ExecuteTime": {
     "end_time": "2025-06-25T16:06:34.730638Z",
     "start_time": "2025-06-25T16:06:34.727668Z"
    }
   },
   "cell_type": "code",
   "source": "hourly_prices",
   "id": "f8bff2017429d160",
   "outputs": [
    {
     "data": {
      "text/plain": [
       "shape: (8_760, 2)\n",
       "┌─────────────────────────────┬───────┐\n",
       "│ tick                        ┆ price │\n",
       "│ ---                         ┆ ---   │\n",
       "│ datetime[μs, Europe/Prague] ┆ f64   │\n",
       "╞═════════════════════════════╪═══════╡\n",
       "│ 2021-01-01 00:00:00 CET     ┆ 50.87 │\n",
       "│ 2021-01-01 01:00:00 CET     ┆ 48.19 │\n",
       "│ 2021-01-01 02:00:00 CET     ┆ 44.68 │\n",
       "│ 2021-01-01 03:00:00 CET     ┆ 42.92 │\n",
       "│ 2021-01-01 04:00:00 CET     ┆ 40.39 │\n",
       "│ …                           ┆ …     │\n",
       "│ 2021-12-31 19:00:00 CET     ┆ 32.49 │\n",
       "│ 2021-12-31 20:00:00 CET     ┆ 0.18  │\n",
       "│ 2021-12-31 21:00:00 CET     ┆ 0.08  │\n",
       "│ 2021-12-31 22:00:00 CET     ┆ 5.1   │\n",
       "│ 2021-12-31 23:00:00 CET     ┆ 6.32  │\n",
       "└─────────────────────────────┴───────┘"
      ],
      "text/html": [
       "<div><style>\n",
       ".dataframe > thead > tr,\n",
       ".dataframe > tbody > tr {\n",
       "  text-align: right;\n",
       "  white-space: pre-wrap;\n",
       "}\n",
       "</style>\n",
       "<small>shape: (8_760, 2)</small><table border=\"1\" class=\"dataframe\"><thead><tr><th>tick</th><th>price</th></tr><tr><td>datetime[μs, Europe/Prague]</td><td>f64</td></tr></thead><tbody><tr><td>2021-01-01 00:00:00 CET</td><td>50.87</td></tr><tr><td>2021-01-01 01:00:00 CET</td><td>48.19</td></tr><tr><td>2021-01-01 02:00:00 CET</td><td>44.68</td></tr><tr><td>2021-01-01 03:00:00 CET</td><td>42.92</td></tr><tr><td>2021-01-01 04:00:00 CET</td><td>40.39</td></tr><tr><td>&hellip;</td><td>&hellip;</td></tr><tr><td>2021-12-31 19:00:00 CET</td><td>32.49</td></tr><tr><td>2021-12-31 20:00:00 CET</td><td>0.18</td></tr><tr><td>2021-12-31 21:00:00 CET</td><td>0.08</td></tr><tr><td>2021-12-31 22:00:00 CET</td><td>5.1</td></tr><tr><td>2021-12-31 23:00:00 CET</td><td>6.32</td></tr></tbody></table></div>"
      ]
     },
     "execution_count": 4,
     "metadata": {},
     "output_type": "execute_result"
    }
   ],
   "execution_count": 4
  },
  {
   "metadata": {},
   "cell_type": "markdown",
   "source": [
    "Decision variables:\n",
    "1. `Pump`: binary variable indicating whether the pump is on (1) or off (0) at a given hour\n",
    "2. `Turb`: continuous variable indicating the amount of energy produced by the turbine at a given hour (0 to turb_max)\n",
    "3. `Storage_level`: continuous variable indicating the amount of energy stored in the reservoir at a given hour (between storage_min and storage_max)"
   ],
   "id": "106154cbb1ce8aff"
  },
  {
   "metadata": {
    "ExecuteTime": {
     "end_time": "2025-06-25T16:06:34.818298Z",
     "start_time": "2025-06-25T16:06:34.751327Z"
    }
   },
   "cell_type": "code",
   "source": [
    "m = pf.Model(\"unit commitment problem\", solver='highs', use_var_names=True)\n",
    "\n",
    "m.Pump = pf.Variable(hourly_prices[[\"tick\"]], vtype=pf.VType.BINARY)\n",
    "# ub is redundant since it will be set also in logical condition that pump and turbine cannot work at the same time\n",
    "m.Turb = pf.Variable(hourly_prices[[\"tick\"]], lb=0, ub=turb_max)\n",
    "m.Storage_level = pf.Variable(\n",
    "    hourly_prices[[\"tick\"]], lb=storage_min, ub=storage_max\n",
    ")"
   ],
   "id": "a0f2034856dd957",
   "outputs": [
    {
     "name": "stdout",
     "output_type": "stream",
     "text": [
      "Running HiGHS 1.11.0 (git hash: 364c83a): Copyright (c) 2025 HiGHS under MIT licence terms\n"
     ]
    }
   ],
   "execution_count": 5
  },
  {
   "metadata": {
    "ExecuteTime": {
     "end_time": "2025-06-25T16:06:34.864578Z",
     "start_time": "2025-06-25T16:06:34.862669Z"
    }
   },
   "cell_type": "code",
   "source": "m",
   "id": "64613e640233d082",
   "outputs": [
    {
     "data": {
      "text/plain": [
       "<Model name=unit commitment problem vars=3 constrs=0 objective=False>"
      ]
     },
     "execution_count": 6,
     "metadata": {},
     "output_type": "execute_result"
    }
   ],
   "execution_count": 6
  },
  {
   "metadata": {
    "ExecuteTime": {
     "end_time": "2025-06-25T16:06:34.888140Z",
     "start_time": "2025-06-25T16:06:34.877388Z"
    }
   },
   "cell_type": "code",
   "source": "m.Pump",
   "id": "6a4c7f52fd4b10e7",
   "outputs": [
    {
     "data": {
      "text/plain": [
       "<Variable name=Pump size=8760 dimensions={'tick': 8760}>\n",
       "[2021-01-01_00:00:00.000000+01:00]: Pump[2021-01-01_00:00:00.000000+01:00]\n",
       "[2021-01-01_01:00:00.000000+01:00]: Pump[2021-01-01_01:00:00.000000+01:00]\n",
       "[2021-01-01_02:00:00.000000+01:00]: Pump[2021-01-01_02:00:00.000000+01:00]\n",
       "[2021-01-01_03:00:00.000000+01:00]: Pump[2021-01-01_03:00:00.000000+01:00]\n",
       "[2021-01-01_04:00:00.000000+01:00]: Pump[2021-01-01_04:00:00.000000+01:00]\n",
       "[2021-01-01_05:00:00.000000+01:00]: Pump[2021-01-01_05:00:00.000000+01:00]\n",
       "[2021-01-01_06:00:00.000000+01:00]: Pump[2021-01-01_06:00:00.000000+01:00]\n",
       "[2021-01-01_07:00:00.000000+01:00]: Pump[2021-01-01_07:00:00.000000+01:00]\n",
       "[2021-01-01_08:00:00.000000+01:00]: Pump[2021-01-01_08:00:00.000000+01:00]\n",
       "[2021-01-01_09:00:00.000000+01:00]: Pump[2021-01-01_09:00:00.000000+01:00]\n",
       "[2021-01-01_10:00:00.000000+01:00]: Pump[2021-01-01_10:00:00.000000+01:00]\n",
       "[2021-01-01_11:00:00.000000+01:00]: Pump[2021-01-01_11:00:00.000000+01:00]\n",
       "[2021-01-01_12:00:00.000000+01:00]: Pump[2021-01-01_12:00:00.000000+01:00]\n",
       "[2021-01-01_13:00:00.000000+01:00]: Pump[2021-01-01_13:00:00.000000+01:00]\n",
       "[2021-01-01_14:00:00.000000+01:00]: Pump[2021-01-01_14:00:00.000000+01:00]"
      ]
     },
     "execution_count": 7,
     "metadata": {},
     "output_type": "execute_result"
    }
   ],
   "execution_count": 7
  },
  {
   "metadata": {
    "ExecuteTime": {
     "end_time": "2025-06-25T16:06:34.914120Z",
     "start_time": "2025-06-25T16:06:34.903184Z"
    }
   },
   "cell_type": "code",
   "source": "m.Turb",
   "id": "4b1cf64b5143b6c6",
   "outputs": [
    {
     "data": {
      "text/plain": [
       "<Variable name=Turb lb=0 ub=90 size=8760 dimensions={'tick': 8760}>\n",
       "[2021-01-01_00:00:00.000000+01:00]: Turb[2021-01-01_00:00:00.000000+01:00]\n",
       "[2021-01-01_01:00:00.000000+01:00]: Turb[2021-01-01_01:00:00.000000+01:00]\n",
       "[2021-01-01_02:00:00.000000+01:00]: Turb[2021-01-01_02:00:00.000000+01:00]\n",
       "[2021-01-01_03:00:00.000000+01:00]: Turb[2021-01-01_03:00:00.000000+01:00]\n",
       "[2021-01-01_04:00:00.000000+01:00]: Turb[2021-01-01_04:00:00.000000+01:00]\n",
       "[2021-01-01_05:00:00.000000+01:00]: Turb[2021-01-01_05:00:00.000000+01:00]\n",
       "[2021-01-01_06:00:00.000000+01:00]: Turb[2021-01-01_06:00:00.000000+01:00]\n",
       "[2021-01-01_07:00:00.000000+01:00]: Turb[2021-01-01_07:00:00.000000+01:00]\n",
       "[2021-01-01_08:00:00.000000+01:00]: Turb[2021-01-01_08:00:00.000000+01:00]\n",
       "[2021-01-01_09:00:00.000000+01:00]: Turb[2021-01-01_09:00:00.000000+01:00]\n",
       "[2021-01-01_10:00:00.000000+01:00]: Turb[2021-01-01_10:00:00.000000+01:00]\n",
       "[2021-01-01_11:00:00.000000+01:00]: Turb[2021-01-01_11:00:00.000000+01:00]\n",
       "[2021-01-01_12:00:00.000000+01:00]: Turb[2021-01-01_12:00:00.000000+01:00]\n",
       "[2021-01-01_13:00:00.000000+01:00]: Turb[2021-01-01_13:00:00.000000+01:00]\n",
       "[2021-01-01_14:00:00.000000+01:00]: Turb[2021-01-01_14:00:00.000000+01:00]"
      ]
     },
     "execution_count": 8,
     "metadata": {},
     "output_type": "execute_result"
    }
   ],
   "execution_count": 8
  },
  {
   "metadata": {
    "ExecuteTime": {
     "end_time": "2025-06-25T16:06:34.934322Z",
     "start_time": "2025-06-25T16:06:34.924121Z"
    }
   },
   "cell_type": "code",
   "source": "m.Storage_level",
   "id": "319c60c679aafcaf",
   "outputs": [
    {
     "data": {
      "text/plain": [
       "<Variable name=Storage_level lb=100 ub=630 size=8760 dimensions={'tick': 8760}>\n",
       "[2021-01-01_00:00:00.000000+01:00]: Storage_level[2021-01-01_00:00:00.000000+01:00]\n",
       "[2021-01-01_01:00:00.000000+01:00]: Storage_level[2021-01-01_01:00:00.000000+01:00]\n",
       "[2021-01-01_02:00:00.000000+01:00]: Storage_level[2021-01-01_02:00:00.000000+01:00]\n",
       "[2021-01-01_03:00:00.000000+01:00]: Storage_level[2021-01-01_03:00:00.000000+01:00]\n",
       "[2021-01-01_04:00:00.000000+01:00]: Storage_level[2021-01-01_04:00:00.000000+01:00]\n",
       "[2021-01-01_05:00:00.000000+01:00]: Storage_level[2021-01-01_05:00:00.000000+01:00]\n",
       "[2021-01-01_06:00:00.000000+01:00]: Storage_level[2021-01-01_06:00:00.000000+01:00]\n",
       "[2021-01-01_07:00:00.000000+01:00]: Storage_level[2021-01-01_07:00:00.000000+01:00]\n",
       "[2021-01-01_08:00:00.000000+01:00]: Storage_level[2021-01-01_08:00:00.000000+01:00]\n",
       "[2021-01-01_09:00:00.000000+01:00]: Storage_level[2021-01-01_09:00:00.000000+01:00]\n",
       "[2021-01-01_10:00:00.000000+01:00]: Storage_level[2021-01-01_10:00:00.000000+01:00]\n",
       "[2021-01-01_11:00:00.000000+01:00]: Storage_level[2021-01-01_11:00:00.000000+01:00]\n",
       "[2021-01-01_12:00:00.000000+01:00]: Storage_level[2021-01-01_12:00:00.000000+01:00]\n",
       "[2021-01-01_13:00:00.000000+01:00]: Storage_level[2021-01-01_13:00:00.000000+01:00]\n",
       "[2021-01-01_14:00:00.000000+01:00]: Storage_level[2021-01-01_14:00:00.000000+01:00]"
      ]
     },
     "execution_count": 9,
     "metadata": {},
     "output_type": "execute_result"
    }
   ],
   "execution_count": 9
  },
  {
   "metadata": {},
   "cell_type": "markdown",
   "source": [
    "Add constraints to the model:\n",
    "1. The initial and final storage level must be equal to `storage_level_init_and_final`.\n",
    "2. The intermediate storage level for next hour is calculated based on the pump and turbine operations, taking into account the efficiency of the pump and state of storage level in the previous hour.\n",
    "3. The pump and turbine cannot operate simultaneously, meaning if the pump is on, the turbine must be off (and vice versa). BigM trick is used to enforce this condition."
   ],
   "id": "ed757454a9a7a7fb"
  },
  {
   "metadata": {
    "ExecuteTime": {
     "end_time": "2025-06-25T16:06:35.031780Z",
     "start_time": "2025-06-25T16:06:34.945678Z"
    }
   },
   "cell_type": "code",
   "source": [
    "m.initial_storage_level = (\n",
    "        m.Storage_level.filter(\n",
    "            pl.col(\"tick\") == hourly_prices[\"tick\"].min()\n",
    "        )\n",
    "        == storage_level_init_and_final\n",
    ")\n",
    "\n",
    "m.intermediate_storage_level = (\n",
    "        m.Storage_level.next(dim=\"tick\", wrap_around=True)\n",
    "        == m.Storage_level + m.Pump * pump_max * efficiency - m.Turb\n",
    ")\n",
    "\n",
    "m.pump_and_turbine_xor = m.Turb <= (1 - m.Pump) * turb_max"
   ],
   "id": "829321183f85afb6",
   "outputs": [],
   "execution_count": 10
  },
  {
   "metadata": {
    "ExecuteTime": {
     "end_time": "2025-06-25T16:06:35.039903Z",
     "start_time": "2025-06-25T16:06:35.037811Z"
    }
   },
   "cell_type": "code",
   "source": "m",
   "id": "30ceea5f30cd691a",
   "outputs": [
    {
     "data": {
      "text/plain": [
       "<Model name=unit commitment problem vars=3 constrs=3 objective=False>"
      ]
     },
     "execution_count": 11,
     "metadata": {},
     "output_type": "execute_result"
    }
   ],
   "execution_count": 11
  },
  {
   "metadata": {
    "ExecuteTime": {
     "end_time": "2025-06-25T16:06:35.056404Z",
     "start_time": "2025-06-25T16:06:35.048917Z"
    }
   },
   "cell_type": "code",
   "source": "m.initial_storage_level",
   "id": "a7f2fb28340ad381",
   "outputs": [
    {
     "data": {
      "text/plain": [
       "<Constraint name=initial_storage_level sense='=' size=1 dimensions={'tick': 1} terms=2>\n",
       "[2021-01-01_00:00:00.000000+01:00]: Storage_level[2021-01-01_00:00:00.000000+01:00] = 300"
      ]
     },
     "execution_count": 12,
     "metadata": {},
     "output_type": "execute_result"
    }
   ],
   "execution_count": 12
  },
  {
   "metadata": {
    "ExecuteTime": {
     "end_time": "2025-06-25T16:06:35.084992Z",
     "start_time": "2025-06-25T16:06:35.067135Z"
    }
   },
   "cell_type": "code",
   "source": "m.intermediate_storage_level",
   "id": "4441a7e1d294b472",
   "outputs": [
    {
     "data": {
      "text/plain": [
       "<Constraint name=intermediate_storage_level sense='=' size=8760 dimensions={'tick': 8760} terms=35040>\n",
       "[2021-01-01_00:00:00.000000+01:00]: Storage_level[2021-01-01_01:00:00.000000+01:00] - Storage_level[2021-01-01_00:00... = 0\n",
       "[2021-01-01_01:00:00.000000+01:00]: Storage_level[2021-01-01_02:00:00.000000+01:00] - Storage_level[2021-01-01_01:00... = 0\n",
       "[2021-01-01_02:00:00.000000+01:00]: Storage_level[2021-01-01_03:00:00.000000+01:00] - Storage_level[2021-01-01_02:00... = 0\n",
       "[2021-01-01_03:00:00.000000+01:00]: Storage_level[2021-01-01_04:00:00.000000+01:00] - Storage_level[2021-01-01_03:00... = 0\n",
       "[2021-01-01_04:00:00.000000+01:00]: Storage_level[2021-01-01_05:00:00.000000+01:00] - Storage_level[2021-01-01_04:00... = 0\n",
       "[2021-01-01_05:00:00.000000+01:00]: Storage_level[2021-01-01_06:00:00.000000+01:00] - Storage_level[2021-01-01_05:00... = 0\n",
       "[2021-01-01_06:00:00.000000+01:00]: Storage_level[2021-01-01_07:00:00.000000+01:00] - Storage_level[2021-01-01_06:00... = 0\n",
       "[2021-01-01_07:00:00.000000+01:00]: Storage_level[2021-01-01_08:00:00.000000+01:00] - Storage_level[2021-01-01_07:00... = 0\n",
       "[2021-01-01_08:00:00.000000+01:00]: Storage_level[2021-01-01_09:00:00.000000+01:00] - Storage_level[2021-01-01_08:00... = 0\n",
       "[2021-01-01_09:00:00.000000+01:00]: Storage_level[2021-01-01_10:00:00.000000+01:00] - Storage_level[2021-01-01_09:00... = 0\n",
       "[2021-01-01_10:00:00.000000+01:00]: Storage_level[2021-01-01_11:00:00.000000+01:00] - Storage_level[2021-01-01_10:00... = 0\n",
       "[2021-01-01_11:00:00.000000+01:00]: Storage_level[2021-01-01_12:00:00.000000+01:00] - Storage_level[2021-01-01_11:00... = 0\n",
       "[2021-01-01_12:00:00.000000+01:00]: Storage_level[2021-01-01_13:00:00.000000+01:00] - Storage_level[2021-01-01_12:00... = 0\n",
       "[2021-01-01_13:00:00.000000+01:00]: Storage_level[2021-01-01_14:00:00.000000+01:00] - Storage_level[2021-01-01_13:00... = 0\n",
       "[2021-01-01_14:00:00.000000+01:00]: Storage_level[2021-01-01_15:00:00.000000+01:00] - Storage_level[2021-01-01_14:00... = 0"
      ]
     },
     "execution_count": 13,
     "metadata": {},
     "output_type": "execute_result"
    }
   ],
   "execution_count": 13
  },
  {
   "metadata": {
    "ExecuteTime": {
     "end_time": "2025-06-25T16:06:35.109721Z",
     "start_time": "2025-06-25T16:06:35.095410Z"
    }
   },
   "cell_type": "code",
   "source": "m.pump_and_turbine_xor",
   "id": "306360806f4d0710",
   "outputs": [
    {
     "data": {
      "text/plain": [
       "<Constraint name=pump_and_turbine_xor sense='<=' size=8760 dimensions={'tick': 8760} terms=26280>\n",
       "[2021-01-01_00:00:00.000000+01:00]: Turb[2021-01-01_00:00:00.000000+01:00] +90 Pump[2021-01-01_00:00:00.000000+01:00... <= 90\n",
       "[2021-01-01_01:00:00.000000+01:00]: Turb[2021-01-01_01:00:00.000000+01:00] +90 Pump[2021-01-01_01:00:00.000000+01:00... <= 90\n",
       "[2021-01-01_02:00:00.000000+01:00]: Turb[2021-01-01_02:00:00.000000+01:00] +90 Pump[2021-01-01_02:00:00.000000+01:00... <= 90\n",
       "[2021-01-01_03:00:00.000000+01:00]: Turb[2021-01-01_03:00:00.000000+01:00] +90 Pump[2021-01-01_03:00:00.000000+01:00... <= 90\n",
       "[2021-01-01_04:00:00.000000+01:00]: Turb[2021-01-01_04:00:00.000000+01:00] +90 Pump[2021-01-01_04:00:00.000000+01:00... <= 90\n",
       "[2021-01-01_05:00:00.000000+01:00]: Turb[2021-01-01_05:00:00.000000+01:00] +90 Pump[2021-01-01_05:00:00.000000+01:00... <= 90\n",
       "[2021-01-01_06:00:00.000000+01:00]: Turb[2021-01-01_06:00:00.000000+01:00] +90 Pump[2021-01-01_06:00:00.000000+01:00... <= 90\n",
       "[2021-01-01_07:00:00.000000+01:00]: Turb[2021-01-01_07:00:00.000000+01:00] +90 Pump[2021-01-01_07:00:00.000000+01:00... <= 90\n",
       "[2021-01-01_08:00:00.000000+01:00]: Turb[2021-01-01_08:00:00.000000+01:00] +90 Pump[2021-01-01_08:00:00.000000+01:00... <= 90\n",
       "[2021-01-01_09:00:00.000000+01:00]: Turb[2021-01-01_09:00:00.000000+01:00] +90 Pump[2021-01-01_09:00:00.000000+01:00... <= 90\n",
       "[2021-01-01_10:00:00.000000+01:00]: Turb[2021-01-01_10:00:00.000000+01:00] +90 Pump[2021-01-01_10:00:00.000000+01:00... <= 90\n",
       "[2021-01-01_11:00:00.000000+01:00]: Turb[2021-01-01_11:00:00.000000+01:00] +90 Pump[2021-01-01_11:00:00.000000+01:00... <= 90\n",
       "[2021-01-01_12:00:00.000000+01:00]: Turb[2021-01-01_12:00:00.000000+01:00] +90 Pump[2021-01-01_12:00:00.000000+01:00... <= 90\n",
       "[2021-01-01_13:00:00.000000+01:00]: Turb[2021-01-01_13:00:00.000000+01:00] +90 Pump[2021-01-01_13:00:00.000000+01:00... <= 90\n",
       "[2021-01-01_14:00:00.000000+01:00]: Turb[2021-01-01_14:00:00.000000+01:00] +90 Pump[2021-01-01_14:00:00.000000+01:00... <= 90"
      ]
     },
     "execution_count": 14,
     "metadata": {},
     "output_type": "execute_result"
    }
   ],
   "execution_count": 14
  },
  {
   "metadata": {},
   "cell_type": "markdown",
   "source": "Set the objective function to maximize the profit from selling energy produced by the turbine minus the cost of energy bought for pumping",
   "id": "4484360b0cb1cec5"
  },
  {
   "metadata": {
    "ExecuteTime": {
     "end_time": "2025-06-25T16:06:35.134844Z",
     "start_time": "2025-06-25T16:06:35.119602Z"
    }
   },
   "cell_type": "code",
   "source": [
    "hourly_profit = (m.Turb - pump_max * m.Pump) * hourly_prices\n",
    "m.maximize = pf.sum(hourly_profit)"
   ],
   "id": "b8e6becd8ebc975e",
   "outputs": [
    {
     "name": "stdout",
     "output_type": "stream",
     "text": [
      "Hessian has dimension 26281 but no nonzeros, so is ignored\n"
     ]
    }
   ],
   "execution_count": 15
  },
  {
   "metadata": {
    "ExecuteTime": {
     "end_time": "2025-06-25T16:06:35.156031Z",
     "start_time": "2025-06-25T16:06:35.153866Z"
    }
   },
   "cell_type": "code",
   "source": "m",
   "id": "7381a1ce7e28c05b",
   "outputs": [
    {
     "data": {
      "text/plain": [
       "<Model name=unit commitment problem vars=3 constrs=3 objective=True>"
      ]
     },
     "execution_count": 16,
     "metadata": {},
     "output_type": "execute_result"
    }
   ],
   "execution_count": 16
  },
  {
   "metadata": {
    "ExecuteTime": {
     "end_time": "2025-06-25T16:06:35.183566Z",
     "start_time": "2025-06-25T16:06:35.176501Z"
    }
   },
   "cell_type": "code",
   "source": "m.objective",
   "id": "b42a8cedd55db98e",
   "outputs": [
    {
     "data": {
      "text/plain": [
       "<Objective size=1 dimensions={} terms=17506>\n",
       "objective: 50.87 Turb[2021-01-01_00:00:00.000000+01:00] -3560.9 Pump[2021-01-01_00:00:00.00..."
      ]
     },
     "execution_count": 17,
     "metadata": {},
     "output_type": "execute_result"
    }
   ],
   "execution_count": 17
  },
  {
   "metadata": {},
   "cell_type": "markdown",
   "source": "Now that trinity of model, variables and constraints is set, we can optimize the model.",
   "id": "6e6fe4044b914c2a"
  },
  {
   "metadata": {
    "ExecuteTime": {
     "end_time": "2025-06-25T16:06:41.213561Z",
     "start_time": "2025-06-25T16:06:35.198906Z"
    }
   },
   "cell_type": "code",
   "source": [
    "m.attr.RelativeGap = 1e-5\n",
    "\n",
    "m.optimize()"
   ],
   "id": "d135bd4b5274f9c8",
   "outputs": [
    {
     "name": "stdout",
     "output_type": "stream",
     "text": [
      "MIP  has 17521 rows; 26281 cols; 61322 nonzeros; 8760 integer variables (8760 binary)\n",
      "Coefficient ranges:\n",
      "  Matrix [1e+00, 3e+02]\n",
      "  Cost   [1e-02, 4e+04]\n",
      "  Bound  [1e+00, 6e+02]\n",
      "  RHS    [0e+00, 0e+00]\n",
      "Presolving model\n",
      "17520 rows, 26279 cols, 52558 nonzeros  0s\n",
      "17518 rows, 26277 cols, 52554 nonzeros  0s\n",
      "\n",
      "Solving MIP model with:\n",
      "   17518 rows\n",
      "   26277 cols (8760 binary, 0 integer, 0 implied int., 17517 continuous, 0 domain fixed)\n",
      "   52554 nonzeros\n",
      "\n",
      "Src: B => Branching; C => Central rounding; F => Feasibility pump; J => Feasibility jump;\n",
      "     H => Heuristic; L => Sub-MIP; P => Empty MIP; R => Randomized rounding; Z => ZI Round;\n",
      "     I => Shifting; S => Solve LP; T => Evaluate node; U => Unbounded; X => User solution;\n",
      "     z => Trivial zero; l => Trivial lower; u => Trivial upper; p => Trivial point\n",
      "\n",
      "        Nodes      |    B&B Tree     |            Objective Bounds              |  Dynamic Constraints |       Work      \n",
      "Src  Proc. InQueue |  Leaves   Expl. | BestBound       BestSol              Gap |   Cuts   InLp Confl. | LpIters     Time\n",
      "\n",
      " J       0       0         0   0.00%   inf             -351545.675        Large        0      0      0         0     0.2s\n",
      "         0       0         0   0.00%   6350381.27807   -351545.675     1906.42%        0      0      4     10802     0.3s\n",
      " C       0       0         0   0.00%   6342558.855208  6332957.675        0.15%      725    289      4     11094     0.8s\n",
      " L       0       0         0   0.00%   6341867.15      6341851.875        0.00%      833    354      4     11165     6.0s\n",
      " T       0       0         0   0.00%   6341867.15      6341867.15         0.00%      833    354      4     12213     6.0s\n",
      "         1       0         1 100.00%   6341867.15      6341867.15         0.00%      833    354      4     12213     6.0s\n",
      "\n",
      "Solving report\n",
      "  Status            Optimal\n",
      "  Primal bound      6341867.15\n",
      "  Dual bound        6341867.15\n",
      "  Gap               0% (tolerance: 0.001%)\n",
      "  P-D integral      33.7249280553\n",
      "  Solution status   feasible\n",
      "                    6341867.15 (objective)\n",
      "                    0 (bound viol.)\n",
      "                    1.0458300892e-13 (int. viol.)\n",
      "                    0 (row viol.)\n",
      "  Timing            6.00 (total)\n",
      "                    0.00 (presolve)\n",
      "                    0.00 (solve)\n",
      "                    0.00 (postsolve)\n",
      "  Max sub-MIP depth 7\n",
      "  Nodes             1\n",
      "  Repair LPs        0 (0 feasible; 0 iterations)\n",
      "  LP iterations     12213 (total)\n",
      "                    0 (strong br.)\n",
      "                    363 (separation)\n",
      "                    1048 (heuristics)\n"
     ]
    }
   ],
   "execution_count": 18
  },
  {
   "metadata": {
    "ExecuteTime": {
     "end_time": "2025-06-25T16:06:41.233205Z",
     "start_time": "2025-06-25T16:06:41.227800Z"
    }
   },
   "cell_type": "code",
   "source": "m.Storage_level.solution",
   "id": "b6b206827b18190b",
   "outputs": [
    {
     "data": {
      "text/plain": [
       "shape: (8_760, 2)\n",
       "┌─────────────────────────────┬──────────┐\n",
       "│ tick                        ┆ solution │\n",
       "│ ---                         ┆ ---      │\n",
       "│ datetime[μs, Europe/Prague] ┆ f64      │\n",
       "╞═════════════════════════════╪══════════╡\n",
       "│ 2021-01-01 00:00:00 CET     ┆ 300.0    │\n",
       "│ 2021-01-01 01:00:00 CET     ┆ 300.0    │\n",
       "│ 2021-01-01 02:00:00 CET     ┆ 300.0    │\n",
       "│ 2021-01-01 03:00:00 CET     ┆ 300.0    │\n",
       "│ 2021-01-01 04:00:00 CET     ┆ 300.0    │\n",
       "│ …                           ┆ …        │\n",
       "│ 2021-12-31 19:00:00 CET     ┆ 232.5    │\n",
       "│ 2021-12-31 20:00:00 CET     ┆ 142.5    │\n",
       "│ 2021-12-31 21:00:00 CET     ┆ 195.0    │\n",
       "│ 2021-12-31 22:00:00 CET     ┆ 247.5    │\n",
       "│ 2021-12-31 23:00:00 CET     ┆ 300.0    │\n",
       "└─────────────────────────────┴──────────┘"
      ],
      "text/html": [
       "<div><style>\n",
       ".dataframe > thead > tr,\n",
       ".dataframe > tbody > tr {\n",
       "  text-align: right;\n",
       "  white-space: pre-wrap;\n",
       "}\n",
       "</style>\n",
       "<small>shape: (8_760, 2)</small><table border=\"1\" class=\"dataframe\"><thead><tr><th>tick</th><th>solution</th></tr><tr><td>datetime[μs, Europe/Prague]</td><td>f64</td></tr></thead><tbody><tr><td>2021-01-01 00:00:00 CET</td><td>300.0</td></tr><tr><td>2021-01-01 01:00:00 CET</td><td>300.0</td></tr><tr><td>2021-01-01 02:00:00 CET</td><td>300.0</td></tr><tr><td>2021-01-01 03:00:00 CET</td><td>300.0</td></tr><tr><td>2021-01-01 04:00:00 CET</td><td>300.0</td></tr><tr><td>&hellip;</td><td>&hellip;</td></tr><tr><td>2021-12-31 19:00:00 CET</td><td>232.5</td></tr><tr><td>2021-12-31 20:00:00 CET</td><td>142.5</td></tr><tr><td>2021-12-31 21:00:00 CET</td><td>195.0</td></tr><tr><td>2021-12-31 22:00:00 CET</td><td>247.5</td></tr><tr><td>2021-12-31 23:00:00 CET</td><td>300.0</td></tr></tbody></table></div>"
      ]
     },
     "execution_count": 19,
     "metadata": {},
     "output_type": "execute_result"
    }
   ],
   "execution_count": 19
  },
  {
   "metadata": {
    "ExecuteTime": {
     "end_time": "2025-06-25T16:06:41.266614Z",
     "start_time": "2025-06-25T16:06:41.261203Z"
    }
   },
   "cell_type": "code",
   "source": "m.Turb.solution",
   "id": "23795e5c8f4d22ef",
   "outputs": [
    {
     "data": {
      "text/plain": [
       "shape: (8_760, 2)\n",
       "┌─────────────────────────────┬──────────┐\n",
       "│ tick                        ┆ solution │\n",
       "│ ---                         ┆ ---      │\n",
       "│ datetime[μs, Europe/Prague] ┆ f64      │\n",
       "╞═════════════════════════════╪══════════╡\n",
       "│ 2021-01-01 00:00:00 CET     ┆ 0.0      │\n",
       "│ 2021-01-01 01:00:00 CET     ┆ 0.0      │\n",
       "│ 2021-01-01 02:00:00 CET     ┆ 0.0      │\n",
       "│ 2021-01-01 03:00:00 CET     ┆ 0.0      │\n",
       "│ 2021-01-01 04:00:00 CET     ┆ 0.0      │\n",
       "│ …                           ┆ …        │\n",
       "│ 2021-12-31 19:00:00 CET     ┆ 90.0     │\n",
       "│ 2021-12-31 20:00:00 CET     ┆ 0.0      │\n",
       "│ 2021-12-31 21:00:00 CET     ┆ 0.0      │\n",
       "│ 2021-12-31 22:00:00 CET     ┆ 0.0      │\n",
       "│ 2021-12-31 23:00:00 CET     ┆ -0.0     │\n",
       "└─────────────────────────────┴──────────┘"
      ],
      "text/html": [
       "<div><style>\n",
       ".dataframe > thead > tr,\n",
       ".dataframe > tbody > tr {\n",
       "  text-align: right;\n",
       "  white-space: pre-wrap;\n",
       "}\n",
       "</style>\n",
       "<small>shape: (8_760, 2)</small><table border=\"1\" class=\"dataframe\"><thead><tr><th>tick</th><th>solution</th></tr><tr><td>datetime[μs, Europe/Prague]</td><td>f64</td></tr></thead><tbody><tr><td>2021-01-01 00:00:00 CET</td><td>0.0</td></tr><tr><td>2021-01-01 01:00:00 CET</td><td>0.0</td></tr><tr><td>2021-01-01 02:00:00 CET</td><td>0.0</td></tr><tr><td>2021-01-01 03:00:00 CET</td><td>0.0</td></tr><tr><td>2021-01-01 04:00:00 CET</td><td>0.0</td></tr><tr><td>&hellip;</td><td>&hellip;</td></tr><tr><td>2021-12-31 19:00:00 CET</td><td>90.0</td></tr><tr><td>2021-12-31 20:00:00 CET</td><td>0.0</td></tr><tr><td>2021-12-31 21:00:00 CET</td><td>0.0</td></tr><tr><td>2021-12-31 22:00:00 CET</td><td>0.0</td></tr><tr><td>2021-12-31 23:00:00 CET</td><td>-0.0</td></tr></tbody></table></div>"
      ]
     },
     "execution_count": 20,
     "metadata": {},
     "output_type": "execute_result"
    }
   ],
   "execution_count": 20
  },
  {
   "metadata": {
    "ExecuteTime": {
     "end_time": "2025-06-25T16:06:41.325514Z",
     "start_time": "2025-06-25T16:06:41.319500Z"
    }
   },
   "cell_type": "code",
   "source": "m.Pump.solution",
   "id": "dd2d06719f6ea8c9",
   "outputs": [
    {
     "data": {
      "text/plain": [
       "shape: (8_760, 2)\n",
       "┌─────────────────────────────┬──────────┐\n",
       "│ tick                        ┆ solution │\n",
       "│ ---                         ┆ ---      │\n",
       "│ datetime[μs, Europe/Prague] ┆ i64      │\n",
       "╞═════════════════════════════╪══════════╡\n",
       "│ 2021-01-01 00:00:00 CET     ┆ 0        │\n",
       "│ 2021-01-01 01:00:00 CET     ┆ 0        │\n",
       "│ 2021-01-01 02:00:00 CET     ┆ 0        │\n",
       "│ 2021-01-01 03:00:00 CET     ┆ 0        │\n",
       "│ 2021-01-01 04:00:00 CET     ┆ 1        │\n",
       "│ …                           ┆ …        │\n",
       "│ 2021-12-31 19:00:00 CET     ┆ 0        │\n",
       "│ 2021-12-31 20:00:00 CET     ┆ 1        │\n",
       "│ 2021-12-31 21:00:00 CET     ┆ 1        │\n",
       "│ 2021-12-31 22:00:00 CET     ┆ 1        │\n",
       "│ 2021-12-31 23:00:00 CET     ┆ 0        │\n",
       "└─────────────────────────────┴──────────┘"
      ],
      "text/html": [
       "<div><style>\n",
       ".dataframe > thead > tr,\n",
       ".dataframe > tbody > tr {\n",
       "  text-align: right;\n",
       "  white-space: pre-wrap;\n",
       "}\n",
       "</style>\n",
       "<small>shape: (8_760, 2)</small><table border=\"1\" class=\"dataframe\"><thead><tr><th>tick</th><th>solution</th></tr><tr><td>datetime[μs, Europe/Prague]</td><td>i64</td></tr></thead><tbody><tr><td>2021-01-01 00:00:00 CET</td><td>0</td></tr><tr><td>2021-01-01 01:00:00 CET</td><td>0</td></tr><tr><td>2021-01-01 02:00:00 CET</td><td>0</td></tr><tr><td>2021-01-01 03:00:00 CET</td><td>0</td></tr><tr><td>2021-01-01 04:00:00 CET</td><td>1</td></tr><tr><td>&hellip;</td><td>&hellip;</td></tr><tr><td>2021-12-31 19:00:00 CET</td><td>0</td></tr><tr><td>2021-12-31 20:00:00 CET</td><td>1</td></tr><tr><td>2021-12-31 21:00:00 CET</td><td>1</td></tr><tr><td>2021-12-31 22:00:00 CET</td><td>1</td></tr><tr><td>2021-12-31 23:00:00 CET</td><td>0</td></tr></tbody></table></div>"
      ]
     },
     "execution_count": 21,
     "metadata": {},
     "output_type": "execute_result"
    }
   ],
   "execution_count": 21
  },
  {
   "metadata": {
    "ExecuteTime": {
     "end_time": "2025-06-25T16:06:41.384002Z",
     "start_time": "2025-06-25T16:06:41.381959Z"
    }
   },
   "cell_type": "code",
   "source": "m.objective.value",
   "id": "69ac5367146645f8",
   "outputs": [
    {
     "data": {
      "text/plain": [
       "6341867.15"
      ]
     },
     "execution_count": 22,
     "metadata": {},
     "output_type": "execute_result"
    }
   ],
   "execution_count": 22
  },
  {
   "metadata": {
    "ExecuteTime": {
     "end_time": "2025-06-25T16:06:41.442879Z",
     "start_time": "2025-06-25T16:06:41.433809Z"
    }
   },
   "cell_type": "code",
   "source": "hourly_profit.evaluate()",
   "id": "fb4810bedb0c62fa",
   "outputs": [
    {
     "data": {
      "text/plain": [
       "shape: (8_760, 2)\n",
       "┌─────────────────────────────┬──────────┐\n",
       "│ tick                        ┆ solution │\n",
       "│ ---                         ┆ ---      │\n",
       "│ datetime[μs, Europe/Prague] ┆ f64      │\n",
       "╞═════════════════════════════╪══════════╡\n",
       "│ 2021-01-01 00:00:00 CET     ┆ 0.0      │\n",
       "│ 2021-01-01 01:00:00 CET     ┆ 0.0      │\n",
       "│ 2021-01-01 02:00:00 CET     ┆ 0.0      │\n",
       "│ 2021-01-01 03:00:00 CET     ┆ 0.0      │\n",
       "│ 2021-01-01 04:00:00 CET     ┆ -2827.3  │\n",
       "│ …                           ┆ …        │\n",
       "│ 2021-12-31 19:00:00 CET     ┆ 2924.1   │\n",
       "│ 2021-12-31 20:00:00 CET     ┆ -12.6    │\n",
       "│ 2021-12-31 21:00:00 CET     ┆ -5.6     │\n",
       "│ 2021-12-31 22:00:00 CET     ┆ -357.0   │\n",
       "│ 2021-12-31 23:00:00 CET     ┆ 0.0      │\n",
       "└─────────────────────────────┴──────────┘"
      ],
      "text/html": [
       "<div><style>\n",
       ".dataframe > thead > tr,\n",
       ".dataframe > tbody > tr {\n",
       "  text-align: right;\n",
       "  white-space: pre-wrap;\n",
       "}\n",
       "</style>\n",
       "<small>shape: (8_760, 2)</small><table border=\"1\" class=\"dataframe\"><thead><tr><th>tick</th><th>solution</th></tr><tr><td>datetime[μs, Europe/Prague]</td><td>f64</td></tr></thead><tbody><tr><td>2021-01-01 00:00:00 CET</td><td>0.0</td></tr><tr><td>2021-01-01 01:00:00 CET</td><td>0.0</td></tr><tr><td>2021-01-01 02:00:00 CET</td><td>0.0</td></tr><tr><td>2021-01-01 03:00:00 CET</td><td>0.0</td></tr><tr><td>2021-01-01 04:00:00 CET</td><td>-2827.3</td></tr><tr><td>&hellip;</td><td>&hellip;</td></tr><tr><td>2021-12-31 19:00:00 CET</td><td>2924.1</td></tr><tr><td>2021-12-31 20:00:00 CET</td><td>-12.6</td></tr><tr><td>2021-12-31 21:00:00 CET</td><td>-5.6</td></tr><tr><td>2021-12-31 22:00:00 CET</td><td>-357.0</td></tr><tr><td>2021-12-31 23:00:00 CET</td><td>0.0</td></tr></tbody></table></div>"
      ]
     },
     "execution_count": 23,
     "metadata": {},
     "output_type": "execute_result"
    }
   ],
   "execution_count": 23
  },
  {
   "metadata": {
    "ExecuteTime": {
     "end_time": "2025-06-25T16:06:55.735499Z",
     "start_time": "2025-06-25T16:06:41.492681Z"
    }
   },
   "cell_type": "code",
   "source": [
    "m.write('unit_commitment_problem.lp')\n",
    "m.write('unit_commitment_problem.mps')\n",
    "m.Turb.solution.write_csv('turbine.csv')\n",
    "m.Storage_level.solution.write_csv('storage.csv')\n",
    "m.Pump.solution.write_csv('pump.csv')"
   ],
   "id": "bca35a4be5caa116",
   "outputs": [
    {
     "name": "stdout",
     "output_type": "stream",
     "text": [
      "Writing the model to unit_commitment_problem.lp\n",
      "Writing the model to unit_commitment_problem.mps\n"
     ]
    }
   ],
   "execution_count": 24
  }
 ],
 "metadata": {
  "kernelspec": {
   "display_name": "Python 3",
   "language": "python",
   "name": "python3"
  },
  "language_info": {
   "codemirror_mode": {
    "name": "ipython",
    "version": 2
   },
   "file_extension": ".py",
   "mimetype": "text/x-python",
   "name": "python",
   "nbconvert_exporter": "python",
   "pygments_lexer": "ipython2",
   "version": "2.7.6"
  }
 },
 "nbformat": 4,
 "nbformat_minor": 5
}
