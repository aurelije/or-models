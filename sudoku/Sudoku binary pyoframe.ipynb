{
 "cells": [
  {
   "metadata": {},
   "cell_type": "markdown",
   "source": "Book Einführung in Optimirungsmodelle from Nathan Sudermann-Merx page 112\n",
   "id": "820e5f6ea7021d24"
  },
  {
   "metadata": {
    "ExecuteTime": {
     "end_time": "2025-04-24T15:23:34.079889Z",
     "start_time": "2025-04-24T15:23:34.077924Z"
    }
   },
   "cell_type": "code",
   "source": [
    "import polars as pl\n",
    "import pyoframe as pf\n",
    "from pyoframe import sum_by"
   ],
   "id": "4ca9f4f92fe9e386",
   "outputs": [],
   "execution_count": 77
  },
  {
   "metadata": {
    "ExecuteTime": {
     "end_time": "2025-04-24T15:23:34.100303Z",
     "start_time": "2025-04-24T15:23:34.093405Z"
    }
   },
   "cell_type": "code",
   "source": [
    "init_values = pl.read_csv('./initial_numbers.csv', has_header=False, new_columns=['row', 'column', 'digit'])\n",
    "init_values"
   ],
   "id": "b1c708ebb701abbf",
   "outputs": [
    {
     "data": {
      "text/plain": [
       "shape: (21, 3)\n",
       "┌─────┬────────┬───────┐\n",
       "│ row ┆ column ┆ digit │\n",
       "│ --- ┆ ---    ┆ ---   │\n",
       "│ i64 ┆ i64    ┆ i64   │\n",
       "╞═════╪════════╪═══════╡\n",
       "│ 1   ┆ 1      ┆ 8     │\n",
       "│ 2   ┆ 3      ┆ 3     │\n",
       "│ 2   ┆ 4      ┆ 6     │\n",
       "│ 3   ┆ 2      ┆ 7     │\n",
       "│ 3   ┆ 5      ┆ 9     │\n",
       "│ …   ┆ …      ┆ …     │\n",
       "│ 8   ┆ 3      ┆ 8     │\n",
       "│ 8   ┆ 4      ┆ 5     │\n",
       "│ 8   ┆ 8      ┆ 1     │\n",
       "│ 9   ┆ 2      ┆ 9     │\n",
       "│ 9   ┆ 7      ┆ 4     │\n",
       "└─────┴────────┴───────┘"
      ],
      "text/html": [
       "<div><style>\n",
       ".dataframe > thead > tr,\n",
       ".dataframe > tbody > tr {\n",
       "  text-align: right;\n",
       "  white-space: pre-wrap;\n",
       "}\n",
       "</style>\n",
       "<small>shape: (21, 3)</small><table border=\"1\" class=\"dataframe\"><thead><tr><th>row</th><th>column</th><th>digit</th></tr><tr><td>i64</td><td>i64</td><td>i64</td></tr></thead><tbody><tr><td>1</td><td>1</td><td>8</td></tr><tr><td>2</td><td>3</td><td>3</td></tr><tr><td>2</td><td>4</td><td>6</td></tr><tr><td>3</td><td>2</td><td>7</td></tr><tr><td>3</td><td>5</td><td>9</td></tr><tr><td>&hellip;</td><td>&hellip;</td><td>&hellip;</td></tr><tr><td>8</td><td>3</td><td>8</td></tr><tr><td>8</td><td>4</td><td>5</td></tr><tr><td>8</td><td>8</td><td>1</td></tr><tr><td>9</td><td>2</td><td>9</td></tr><tr><td>9</td><td>7</td><td>4</td></tr></tbody></table></div>"
      ]
     },
     "execution_count": 78,
     "metadata": {},
     "output_type": "execute_result"
    }
   ],
   "execution_count": 78
  },
  {
   "metadata": {
    "ExecuteTime": {
     "end_time": "2025-04-24T15:23:34.132850Z",
     "start_time": "2025-04-24T15:23:34.130567Z"
    }
   },
   "cell_type": "code",
   "source": [
    "one_to_nine = pl.DataFrame({\"digit\": range(1, 10)})\n",
    "one_to_nine"
   ],
   "id": "573b576b8dbea6fe",
   "outputs": [
    {
     "data": {
      "text/plain": [
       "shape: (9, 1)\n",
       "┌───────┐\n",
       "│ digit │\n",
       "│ ---   │\n",
       "│ i64   │\n",
       "╞═══════╡\n",
       "│ 1     │\n",
       "│ 2     │\n",
       "│ 3     │\n",
       "│ 4     │\n",
       "│ 5     │\n",
       "│ 6     │\n",
       "│ 7     │\n",
       "│ 8     │\n",
       "│ 9     │\n",
       "└───────┘"
      ],
      "text/html": [
       "<div><style>\n",
       ".dataframe > thead > tr,\n",
       ".dataframe > tbody > tr {\n",
       "  text-align: right;\n",
       "  white-space: pre-wrap;\n",
       "}\n",
       "</style>\n",
       "<small>shape: (9, 1)</small><table border=\"1\" class=\"dataframe\"><thead><tr><th>digit</th></tr><tr><td>i64</td></tr></thead><tbody><tr><td>1</td></tr><tr><td>2</td></tr><tr><td>3</td></tr><tr><td>4</td></tr><tr><td>5</td></tr><tr><td>6</td></tr><tr><td>7</td></tr><tr><td>8</td></tr><tr><td>9</td></tr></tbody></table></div>"
      ]
     },
     "execution_count": 79,
     "metadata": {},
     "output_type": "execute_result"
    }
   ],
   "execution_count": 79
  },
  {
   "metadata": {
    "ExecuteTime": {
     "end_time": "2025-04-24T15:23:34.169514Z",
     "start_time": "2025-04-24T15:23:34.166964Z"
    }
   },
   "cell_type": "code",
   "source": [
    "grid = one_to_nine.join(one_to_nine, how=\"cross\").rename(\n",
    "    {\"digit\": \"row\", \"digit_right\": \"column\"}\n",
    ")\n",
    "grid"
   ],
   "id": "90c18a3baa427771",
   "outputs": [
    {
     "data": {
      "text/plain": [
       "shape: (81, 2)\n",
       "┌─────┬────────┐\n",
       "│ row ┆ column │\n",
       "│ --- ┆ ---    │\n",
       "│ i64 ┆ i64    │\n",
       "╞═════╪════════╡\n",
       "│ 1   ┆ 1      │\n",
       "│ 1   ┆ 2      │\n",
       "│ 1   ┆ 3      │\n",
       "│ 1   ┆ 4      │\n",
       "│ 1   ┆ 5      │\n",
       "│ …   ┆ …      │\n",
       "│ 9   ┆ 5      │\n",
       "│ 9   ┆ 6      │\n",
       "│ 9   ┆ 7      │\n",
       "│ 9   ┆ 8      │\n",
       "│ 9   ┆ 9      │\n",
       "└─────┴────────┘"
      ],
      "text/html": [
       "<div><style>\n",
       ".dataframe > thead > tr,\n",
       ".dataframe > tbody > tr {\n",
       "  text-align: right;\n",
       "  white-space: pre-wrap;\n",
       "}\n",
       "</style>\n",
       "<small>shape: (81, 2)</small><table border=\"1\" class=\"dataframe\"><thead><tr><th>row</th><th>column</th></tr><tr><td>i64</td><td>i64</td></tr></thead><tbody><tr><td>1</td><td>1</td></tr><tr><td>1</td><td>2</td></tr><tr><td>1</td><td>3</td></tr><tr><td>1</td><td>4</td></tr><tr><td>1</td><td>5</td></tr><tr><td>&hellip;</td><td>&hellip;</td></tr><tr><td>9</td><td>5</td></tr><tr><td>9</td><td>6</td></tr><tr><td>9</td><td>7</td></tr><tr><td>9</td><td>8</td></tr><tr><td>9</td><td>9</td></tr></tbody></table></div>"
      ]
     },
     "execution_count": 80,
     "metadata": {},
     "output_type": "execute_result"
    }
   ],
   "execution_count": 80
  },
  {
   "metadata": {
    "ExecuteTime": {
     "end_time": "2025-04-24T15:23:34.218005Z",
     "start_time": "2025-04-24T15:23:34.209453Z"
    }
   },
   "cell_type": "code",
   "source": [
    "m = pf.Model('sudoku_binary_pyoframe', solver='highs', use_var_names=True)\n",
    "m.Y = pf.Variable(grid.join(one_to_nine, how=\"cross\"), vtype=pf.VType.BINARY) # row x column x digit\n",
    "m.Y"
   ],
   "id": "ce756b281dbf8091",
   "outputs": [
    {
     "name": "stdout",
     "output_type": "stream",
     "text": [
      "Running HiGHS 1.10.0 (git hash: fd86653): Copyright (c) 2025 HiGHS under MIT licence terms\n"
     ]
    },
    {
     "data": {
      "text/plain": [
       "<Variable name=Y size=729 dimensions={'row': 9, 'column': 9, 'digit': 9}>\n",
       "[1,1,1]: Y[1,1,1]\n",
       "[1,1,2]: Y[1,1,2]\n",
       "[1,1,3]: Y[1,1,3]\n",
       "[1,1,4]: Y[1,1,4]\n",
       "[1,1,5]: Y[1,1,5]\n",
       "[1,1,6]: Y[1,1,6]\n",
       "[1,1,7]: Y[1,1,7]\n",
       "[1,1,8]: Y[1,1,8]\n",
       "[1,1,9]: Y[1,1,9]\n",
       "[1,2,1]: Y[1,2,1]\n",
       "[1,2,2]: Y[1,2,2]\n",
       "[1,2,3]: Y[1,2,3]\n",
       "[1,2,4]: Y[1,2,4]\n",
       "[1,2,5]: Y[1,2,5]\n",
       "[1,2,6]: Y[1,2,6]"
      ]
     },
     "execution_count": 81,
     "metadata": {},
     "output_type": "execute_result"
    }
   ],
   "execution_count": 81
  },
  {
   "metadata": {
    "ExecuteTime": {
     "end_time": "2025-04-24T15:23:34.270018Z",
     "start_time": "2025-04-24T15:23:34.259976Z"
    }
   },
   "cell_type": "code",
   "source": [
    "m.given_values = m.Y.drop_unmatched() == pf.Set(init_values)\n",
    "m.given_values"
   ],
   "id": "653b64fa9919a2ec",
   "outputs": [
    {
     "data": {
      "text/plain": [
       "<Constraint name=given_values sense='=' size=21 dimensions={'row': 9, 'column': 9, 'digit': 9} terms=42>\n",
       "[1,1,8]: Y[1,1,8] = 1\n",
       "[2,3,3]: Y[2,3,3] = 1\n",
       "[2,4,6]: Y[2,4,6] = 1\n",
       "[3,2,7]: Y[3,2,7] = 1\n",
       "[3,5,9]: Y[3,5,9] = 1\n",
       "[3,7,2]: Y[3,7,2] = 1\n",
       "[4,2,5]: Y[4,2,5] = 1\n",
       "[4,6,7]: Y[4,6,7] = 1\n",
       "[5,5,4]: Y[5,5,4] = 1\n",
       "[5,6,5]: Y[5,6,5] = 1\n",
       "[5,7,7]: Y[5,7,7] = 1\n",
       "[6,4,1]: Y[6,4,1] = 1\n",
       "[6,8,3]: Y[6,8,3] = 1\n",
       "[7,3,1]: Y[7,3,1] = 1\n",
       "[7,8,6]: Y[7,8,6] = 1"
      ]
     },
     "execution_count": 82,
     "metadata": {},
     "output_type": "execute_result"
    }
   ],
   "execution_count": 82
  },
  {
   "metadata": {
    "ExecuteTime": {
     "end_time": "2025-04-24T15:23:34.303374Z",
     "start_time": "2025-04-24T15:23:34.294073Z"
    }
   },
   "cell_type": "code",
   "source": [
    "m.one_per_row = sum_by([\"digit\", \"row\"], m.Y) == 1\n",
    "m.one_per_row"
   ],
   "id": "b348742f03fc5983",
   "outputs": [
    {
     "data": {
      "text/plain": [
       "<Constraint name=one_per_row sense='=' size=81 dimensions={'row': 9, 'digit': 9} terms=810>\n",
       "[1,1]: Y[1,1,1] + Y[1,2,1] + Y[1,3,1] + Y[1,4,1] + Y[1,5,1] + Y[1,6,1] + Y[1,7,1] + Y[1... = 1\n",
       "[1,2]: Y[1,1,2] + Y[1,2,2] + Y[1,3,2] + Y[1,4,2] + Y[1,5,2] + Y[1,6,2] + Y[1,7,2] + Y[1... = 1\n",
       "[1,3]: Y[1,1,3] + Y[1,2,3] + Y[1,3,3] + Y[1,4,3] + Y[1,5,3] + Y[1,6,3] + Y[1,7,3] + Y[1... = 1\n",
       "[1,4]: Y[1,1,4] + Y[1,2,4] + Y[1,3,4] + Y[1,4,4] + Y[1,5,4] + Y[1,6,4] + Y[1,7,4] + Y[1... = 1\n",
       "[1,5]: Y[1,1,5] + Y[1,2,5] + Y[1,3,5] + Y[1,4,5] + Y[1,5,5] + Y[1,6,5] + Y[1,7,5] + Y[1... = 1\n",
       "[1,6]: Y[1,1,6] + Y[1,2,6] + Y[1,3,6] + Y[1,4,6] + Y[1,5,6] + Y[1,6,6] + Y[1,7,6] + Y[1... = 1\n",
       "[1,7]: Y[1,1,7] + Y[1,2,7] + Y[1,3,7] + Y[1,4,7] + Y[1,5,7] + Y[1,6,7] + Y[1,7,7] + Y[1... = 1\n",
       "[1,8]: Y[1,1,8] + Y[1,2,8] + Y[1,3,8] + Y[1,4,8] + Y[1,5,8] + Y[1,6,8] + Y[1,7,8] + Y[1... = 1\n",
       "[1,9]: Y[1,1,9] + Y[1,2,9] + Y[1,3,9] + Y[1,4,9] + Y[1,5,9] + Y[1,6,9] + Y[1,7,9] + Y[1... = 1\n",
       "[2,1]: Y[2,1,1] + Y[2,2,1] + Y[2,3,1] + Y[2,4,1] + Y[2,5,1] + Y[2,6,1] + Y[2,7,1] + Y[2... = 1\n",
       "[2,2]: Y[2,1,2] + Y[2,2,2] + Y[2,3,2] + Y[2,4,2] + Y[2,5,2] + Y[2,6,2] + Y[2,7,2] + Y[2... = 1\n",
       "[2,3]: Y[2,1,3] + Y[2,2,3] + Y[2,3,3] + Y[2,4,3] + Y[2,5,3] + Y[2,6,3] + Y[2,7,3] + Y[2... = 1\n",
       "[2,4]: Y[2,1,4] + Y[2,2,4] + Y[2,3,4] + Y[2,4,4] + Y[2,5,4] + Y[2,6,4] + Y[2,7,4] + Y[2... = 1\n",
       "[2,5]: Y[2,1,5] + Y[2,2,5] + Y[2,3,5] + Y[2,4,5] + Y[2,5,5] + Y[2,6,5] + Y[2,7,5] + Y[2... = 1\n",
       "[2,6]: Y[2,1,6] + Y[2,2,6] + Y[2,3,6] + Y[2,4,6] + Y[2,5,6] + Y[2,6,6] + Y[2,7,6] + Y[2... = 1"
      ]
     },
     "execution_count": 83,
     "metadata": {},
     "output_type": "execute_result"
    }
   ],
   "execution_count": 83
  },
  {
   "metadata": {
    "ExecuteTime": {
     "end_time": "2025-04-24T15:23:34.322569Z",
     "start_time": "2025-04-24T15:23:34.312038Z"
    }
   },
   "cell_type": "code",
   "source": [
    "m.one_per_column = sum_by([\"digit\", \"column\"], m.Y) == 1\n",
    "m.one_per_column"
   ],
   "id": "fceb08f97d231f6a",
   "outputs": [
    {
     "data": {
      "text/plain": [
       "<Constraint name=one_per_column sense='=' size=81 dimensions={'column': 9, 'digit': 9} terms=810>\n",
       "[1,1]: Y[1,1,1] + Y[2,1,1] + Y[3,1,1] + Y[4,1,1] + Y[5,1,1] + Y[6,1,1] + Y[7,1,1] + Y[8... = 1\n",
       "[1,2]: Y[1,1,2] + Y[2,1,2] + Y[3,1,2] + Y[4,1,2] + Y[5,1,2] + Y[6,1,2] + Y[7,1,2] + Y[8... = 1\n",
       "[1,3]: Y[1,1,3] + Y[2,1,3] + Y[3,1,3] + Y[4,1,3] + Y[5,1,3] + Y[6,1,3] + Y[7,1,3] + Y[8... = 1\n",
       "[1,4]: Y[1,1,4] + Y[2,1,4] + Y[3,1,4] + Y[4,1,4] + Y[5,1,4] + Y[6,1,4] + Y[7,1,4] + Y[8... = 1\n",
       "[1,5]: Y[1,1,5] + Y[2,1,5] + Y[3,1,5] + Y[4,1,5] + Y[5,1,5] + Y[6,1,5] + Y[7,1,5] + Y[8... = 1\n",
       "[1,6]: Y[1,1,6] + Y[2,1,6] + Y[3,1,6] + Y[4,1,6] + Y[5,1,6] + Y[6,1,6] + Y[7,1,6] + Y[8... = 1\n",
       "[1,7]: Y[1,1,7] + Y[2,1,7] + Y[3,1,7] + Y[4,1,7] + Y[5,1,7] + Y[6,1,7] + Y[7,1,7] + Y[8... = 1\n",
       "[1,8]: Y[1,1,8] + Y[2,1,8] + Y[3,1,8] + Y[4,1,8] + Y[5,1,8] + Y[6,1,8] + Y[7,1,8] + Y[8... = 1\n",
       "[1,9]: Y[1,1,9] + Y[2,1,9] + Y[3,1,9] + Y[4,1,9] + Y[5,1,9] + Y[6,1,9] + Y[7,1,9] + Y[8... = 1\n",
       "[2,1]: Y[1,2,1] + Y[2,2,1] + Y[3,2,1] + Y[4,2,1] + Y[5,2,1] + Y[6,2,1] + Y[7,2,1] + Y[8... = 1\n",
       "[2,2]: Y[1,2,2] + Y[2,2,2] + Y[3,2,2] + Y[4,2,2] + Y[5,2,2] + Y[6,2,2] + Y[7,2,2] + Y[8... = 1\n",
       "[2,3]: Y[1,2,3] + Y[2,2,3] + Y[3,2,3] + Y[4,2,3] + Y[5,2,3] + Y[6,2,3] + Y[7,2,3] + Y[8... = 1\n",
       "[2,4]: Y[1,2,4] + Y[2,2,4] + Y[3,2,4] + Y[4,2,4] + Y[5,2,4] + Y[6,2,4] + Y[7,2,4] + Y[8... = 1\n",
       "[2,5]: Y[1,2,5] + Y[2,2,5] + Y[3,2,5] + Y[4,2,5] + Y[5,2,5] + Y[6,2,5] + Y[7,2,5] + Y[8... = 1\n",
       "[2,6]: Y[1,2,6] + Y[2,2,6] + Y[3,2,6] + Y[4,2,6] + Y[5,2,6] + Y[6,2,6] + Y[7,2,6] + Y[8... = 1"
      ]
     },
     "execution_count": 84,
     "metadata": {},
     "output_type": "execute_result"
    }
   ],
   "execution_count": 84
  },
  {
   "metadata": {
    "ExecuteTime": {
     "end_time": "2025-04-24T15:23:34.341500Z",
     "start_time": "2025-04-24T15:23:34.330792Z"
    }
   },
   "cell_type": "code",
   "source": [
    "m.one_per_cell = sum_by([\"row\", \"column\"], m.Y) == 1\n",
    "m.one_per_cell"
   ],
   "id": "259cf49f21eedaa4",
   "outputs": [
    {
     "data": {
      "text/plain": [
       "<Constraint name=one_per_cell sense='=' size=81 dimensions={'row': 9, 'column': 9} terms=810>\n",
       "[1,1]: Y[1,1,1] + Y[1,1,2] + Y[1,1,3] + Y[1,1,4] + Y[1,1,5] + Y[1,1,6] + Y[1,1,7] + Y[1... = 1\n",
       "[1,2]: Y[1,2,1] + Y[1,2,2] + Y[1,2,3] + Y[1,2,4] + Y[1,2,5] + Y[1,2,6] + Y[1,2,7] + Y[1... = 1\n",
       "[1,3]: Y[1,3,1] + Y[1,3,2] + Y[1,3,3] + Y[1,3,4] + Y[1,3,5] + Y[1,3,6] + Y[1,3,7] + Y[1... = 1\n",
       "[1,4]: Y[1,4,1] + Y[1,4,2] + Y[1,4,3] + Y[1,4,4] + Y[1,4,5] + Y[1,4,6] + Y[1,4,7] + Y[1... = 1\n",
       "[1,5]: Y[1,5,1] + Y[1,5,2] + Y[1,5,3] + Y[1,5,4] + Y[1,5,5] + Y[1,5,6] + Y[1,5,7] + Y[1... = 1\n",
       "[1,6]: Y[1,6,1] + Y[1,6,2] + Y[1,6,3] + Y[1,6,4] + Y[1,6,5] + Y[1,6,6] + Y[1,6,7] + Y[1... = 1\n",
       "[1,7]: Y[1,7,1] + Y[1,7,2] + Y[1,7,3] + Y[1,7,4] + Y[1,7,5] + Y[1,7,6] + Y[1,7,7] + Y[1... = 1\n",
       "[1,8]: Y[1,8,1] + Y[1,8,2] + Y[1,8,3] + Y[1,8,4] + Y[1,8,5] + Y[1,8,6] + Y[1,8,7] + Y[1... = 1\n",
       "[1,9]: Y[1,9,1] + Y[1,9,2] + Y[1,9,3] + Y[1,9,4] + Y[1,9,5] + Y[1,9,6] + Y[1,9,7] + Y[1... = 1\n",
       "[2,1]: Y[2,1,1] + Y[2,1,2] + Y[2,1,3] + Y[2,1,4] + Y[2,1,5] + Y[2,1,6] + Y[2,1,7] + Y[2... = 1\n",
       "[2,2]: Y[2,2,1] + Y[2,2,2] + Y[2,2,3] + Y[2,2,4] + Y[2,2,5] + Y[2,2,6] + Y[2,2,7] + Y[2... = 1\n",
       "[2,3]: Y[2,3,1] + Y[2,3,2] + Y[2,3,3] + Y[2,3,4] + Y[2,3,5] + Y[2,3,6] + Y[2,3,7] + Y[2... = 1\n",
       "[2,4]: Y[2,4,1] + Y[2,4,2] + Y[2,4,3] + Y[2,4,4] + Y[2,4,5] + Y[2,4,6] + Y[2,4,7] + Y[2... = 1\n",
       "[2,5]: Y[2,5,1] + Y[2,5,2] + Y[2,5,3] + Y[2,5,4] + Y[2,5,5] + Y[2,5,6] + Y[2,5,7] + Y[2... = 1\n",
       "[2,6]: Y[2,6,1] + Y[2,6,2] + Y[2,6,3] + Y[2,6,4] + Y[2,6,5] + Y[2,6,6] + Y[2,6,7] + Y[2... = 1"
      ]
     },
     "execution_count": 85,
     "metadata": {},
     "output_type": "execute_result"
    }
   ],
   "execution_count": 85
  },
  {
   "metadata": {
    "ExecuteTime": {
     "end_time": "2025-04-24T15:23:34.352827Z",
     "start_time": "2025-04-24T15:23:34.350192Z"
    }
   },
   "cell_type": "code",
   "source": [
    "cell_to_box = grid.with_columns(\n",
    "    box=((pl.col(\"row\") - 1) // 3) * 3 + (pl.col(\"column\") - 1) // 3 + 1\n",
    ")\n",
    "cell_to_box"
   ],
   "id": "8b1fef7eb93c9384",
   "outputs": [
    {
     "data": {
      "text/plain": [
       "shape: (81, 3)\n",
       "┌─────┬────────┬─────┐\n",
       "│ row ┆ column ┆ box │\n",
       "│ --- ┆ ---    ┆ --- │\n",
       "│ i64 ┆ i64    ┆ i64 │\n",
       "╞═════╪════════╪═════╡\n",
       "│ 1   ┆ 1      ┆ 1   │\n",
       "│ 1   ┆ 2      ┆ 1   │\n",
       "│ 1   ┆ 3      ┆ 1   │\n",
       "│ 1   ┆ 4      ┆ 2   │\n",
       "│ 1   ┆ 5      ┆ 2   │\n",
       "│ …   ┆ …      ┆ …   │\n",
       "│ 9   ┆ 5      ┆ 8   │\n",
       "│ 9   ┆ 6      ┆ 8   │\n",
       "│ 9   ┆ 7      ┆ 9   │\n",
       "│ 9   ┆ 8      ┆ 9   │\n",
       "│ 9   ┆ 9      ┆ 9   │\n",
       "└─────┴────────┴─────┘"
      ],
      "text/html": [
       "<div><style>\n",
       ".dataframe > thead > tr,\n",
       ".dataframe > tbody > tr {\n",
       "  text-align: right;\n",
       "  white-space: pre-wrap;\n",
       "}\n",
       "</style>\n",
       "<small>shape: (81, 3)</small><table border=\"1\" class=\"dataframe\"><thead><tr><th>row</th><th>column</th><th>box</th></tr><tr><td>i64</td><td>i64</td><td>i64</td></tr></thead><tbody><tr><td>1</td><td>1</td><td>1</td></tr><tr><td>1</td><td>2</td><td>1</td></tr><tr><td>1</td><td>3</td><td>1</td></tr><tr><td>1</td><td>4</td><td>2</td></tr><tr><td>1</td><td>5</td><td>2</td></tr><tr><td>&hellip;</td><td>&hellip;</td><td>&hellip;</td></tr><tr><td>9</td><td>5</td><td>8</td></tr><tr><td>9</td><td>6</td><td>8</td></tr><tr><td>9</td><td>7</td><td>9</td></tr><tr><td>9</td><td>8</td><td>9</td></tr><tr><td>9</td><td>9</td><td>9</td></tr></tbody></table></div>"
      ]
     },
     "execution_count": 86,
     "metadata": {},
     "output_type": "execute_result"
    }
   ],
   "execution_count": 86
  },
  {
   "metadata": {
    "ExecuteTime": {
     "end_time": "2025-04-24T15:23:34.390424Z",
     "start_time": "2025-04-24T15:23:34.379654Z"
    }
   },
   "cell_type": "code",
   "source": [
    "m.one_per_box = m.Y.map(cell_to_box) == 1\n",
    "m.one_per_box"
   ],
   "id": "c29c2a7213416ebb",
   "outputs": [
    {
     "data": {
      "text/plain": [
       "<Constraint name=one_per_box sense='=' size=81 dimensions={'digit': 9, 'box': 9} terms=810>\n",
       "[1,1]: Y[1,1,1] + Y[1,2,1] + Y[1,3,1] + Y[2,1,1] + Y[2,2,1] + Y[2,3,1] + Y[3,1,1] + Y[3... = 1\n",
       "[1,2]: Y[1,4,1] + Y[1,5,1] + Y[1,6,1] + Y[2,4,1] + Y[2,5,1] + Y[2,6,1] + Y[3,4,1] + Y[3... = 1\n",
       "[2,1]: Y[1,1,2] + Y[1,2,2] + Y[1,3,2] + Y[2,1,2] + Y[2,2,2] + Y[2,3,2] + Y[3,1,2] + Y[3... = 1\n",
       "[2,2]: Y[1,4,2] + Y[1,5,2] + Y[1,6,2] + Y[2,4,2] + Y[2,5,2] + Y[2,6,2] + Y[3,4,2] + Y[3... = 1\n",
       "[3,1]: Y[1,1,3] + Y[1,2,3] + Y[1,3,3] + Y[2,1,3] + Y[2,2,3] + Y[2,3,3] + Y[3,1,3] + Y[3... = 1\n",
       "[3,2]: Y[1,4,3] + Y[1,5,3] + Y[1,6,3] + Y[2,4,3] + Y[2,5,3] + Y[2,6,3] + Y[3,4,3] + Y[3... = 1\n",
       "[4,1]: Y[1,1,4] + Y[1,2,4] + Y[1,3,4] + Y[2,1,4] + Y[2,2,4] + Y[2,3,4] + Y[3,1,4] + Y[3... = 1\n",
       "[4,2]: Y[1,4,4] + Y[1,5,4] + Y[1,6,4] + Y[2,4,4] + Y[2,5,4] + Y[2,6,4] + Y[3,4,4] + Y[3... = 1\n",
       "[5,1]: Y[1,1,5] + Y[1,2,5] + Y[1,3,5] + Y[2,1,5] + Y[2,2,5] + Y[2,3,5] + Y[3,1,5] + Y[3... = 1\n",
       "[5,2]: Y[1,4,5] + Y[1,5,5] + Y[1,6,5] + Y[2,4,5] + Y[2,5,5] + Y[2,6,5] + Y[3,4,5] + Y[3... = 1\n",
       "[6,1]: Y[1,1,6] + Y[1,2,6] + Y[1,3,6] + Y[2,1,6] + Y[2,2,6] + Y[2,3,6] + Y[3,1,6] + Y[3... = 1\n",
       "[6,2]: Y[1,4,6] + Y[1,5,6] + Y[1,6,6] + Y[2,4,6] + Y[2,5,6] + Y[2,6,6] + Y[3,4,6] + Y[3... = 1\n",
       "[7,1]: Y[1,1,7] + Y[1,2,7] + Y[1,3,7] + Y[2,1,7] + Y[2,2,7] + Y[2,3,7] + Y[3,1,7] + Y[3... = 1\n",
       "[8,1]: Y[1,1,8] + Y[1,2,8] + Y[1,3,8] + Y[2,1,8] + Y[2,2,8] + Y[2,3,8] + Y[3,1,8] + Y[3... = 1\n",
       "[9,1]: Y[1,1,9] + Y[1,2,9] + Y[1,3,9] + Y[2,1,9] + Y[2,2,9] + Y[2,3,9] + Y[3,1,9] + Y[3... = 1"
      ]
     },
     "execution_count": 87,
     "metadata": {},
     "output_type": "execute_result"
    }
   ],
   "execution_count": 87
  },
  {
   "metadata": {
    "ExecuteTime": {
     "end_time": "2025-04-24T15:23:34.454409Z",
     "start_time": "2025-04-24T15:23:34.409111Z"
    }
   },
   "cell_type": "code",
   "source": "m.optimize()",
   "id": "e01c50df3346112c",
   "outputs": [
    {
     "name": "stdout",
     "output_type": "stream",
     "text": [
      "MIP  has 345 rows; 730 cols; 3282 nonzeros; 729 integer variables (729 binary)\n",
      "Coefficient ranges:\n",
      "  Matrix [1e+00, 1e+00]\n",
      "  Cost   [0e+00, 0e+00]\n",
      "  Bound  [1e+00, 1e+00]\n",
      "  RHS    [0e+00, 0e+00]\n",
      "Presolving model\n",
      "229 rows, 248 cols, 994 nonzeros  0s\n",
      "176 rows, 218 cols, 870 nonzeros  0s\n",
      "169 rows, 213 cols, 872 nonzeros  0s\n",
      "Objective function is integral with scale 1\n",
      "\n",
      "Solving MIP model with:\n",
      "   169 rows\n",
      "   213 cols (213 binary, 0 integer, 0 implied int., 0 continuous)\n",
      "   872 nonzeros\n",
      "\n",
      "Src: B => Branching; C => Central rounding; F => Feasibility pump; H => Heuristic; L => Sub-MIP;\n",
      "     P => Empty MIP; R => Randomized rounding; S => Solve LP; T => Evaluate node; U => Unbounded;\n",
      "     z => Trivial zero; l => Trivial lower; u => Trivial upper; p => Trivial point; X => User solution\n",
      "\n",
      "        Nodes      |    B&B Tree     |            Objective Bounds              |  Dynamic Constraints |       Work      \n",
      "Src  Proc. InQueue |  Leaves   Expl. | BestBound       BestSol              Gap |   Cuts   InLp Confl. | LpIters     Time\n",
      "\n",
      "         0       0         0   0.00%   0               inf                  inf        0      0      0         0     0.0s\n",
      "         0       0         0   0.00%   0               inf                  inf        0      0      7       223     0.0s\n",
      " H       0       0         0 100.00%   0               0                  0.00%     1043     15    185       408     0.0s\n",
      "         1       0         1 100.00%   0               0                  0.00%     1043     15    185       465     0.0s\n",
      "\n",
      "Solving report\n",
      "  Status            Optimal\n",
      "  Primal bound      0\n",
      "  Dual bound        0\n",
      "  Gap               0% (tolerance: 0.01%)\n",
      "  P-D integral      0\n",
      "  Solution status   feasible\n",
      "                    0 (objective)\n",
      "                    0 (bound viol.)\n",
      "                    0 (int. viol.)\n",
      "                    0 (row viol.)\n",
      "  Timing            0.04 (total)\n",
      "                    0.00 (presolve)\n",
      "                    0.00 (solve)\n",
      "                    0.00 (postsolve)\n",
      "  Max sub-MIP depth 1\n",
      "  Nodes             1\n",
      "  Repair LPs        0 (0 feasible; 0 iterations)\n",
      "  LP iterations     465 (total)\n",
      "                    0 (strong br.)\n",
      "                    185 (separation)\n",
      "                    57 (heuristics)\n"
     ]
    }
   ],
   "execution_count": 88
  },
  {
   "metadata": {
    "ExecuteTime": {
     "end_time": "2025-04-24T15:23:34.468488Z",
     "start_time": "2025-04-24T15:23:34.463909Z"
    }
   },
   "cell_type": "code",
   "source": "m.Y.solution.filter(pl.col('solution') == 1).pivot(\"column\", index=[\"row\"], values=\"digit\")",
   "id": "a7b622fafd6d7c87",
   "outputs": [
    {
     "data": {
      "text/plain": [
       "shape: (9, 10)\n",
       "┌─────┬─────┬─────┬─────┬───┬─────┬─────┬─────┬─────┐\n",
       "│ row ┆ 1   ┆ 2   ┆ 3   ┆ … ┆ 6   ┆ 7   ┆ 8   ┆ 9   │\n",
       "│ --- ┆ --- ┆ --- ┆ --- ┆   ┆ --- ┆ --- ┆ --- ┆ --- │\n",
       "│ i64 ┆ i64 ┆ i64 ┆ i64 ┆   ┆ i64 ┆ i64 ┆ i64 ┆ i64 │\n",
       "╞═════╪═════╪═════╪═════╪═══╪═════╪═════╪═════╪═════╡\n",
       "│ 1   ┆ 8   ┆ 1   ┆ 2   ┆ … ┆ 3   ┆ 6   ┆ 4   ┆ 9   │\n",
       "│ 2   ┆ 9   ┆ 4   ┆ 3   ┆ … ┆ 2   ┆ 1   ┆ 7   ┆ 5   │\n",
       "│ 3   ┆ 6   ┆ 7   ┆ 5   ┆ … ┆ 1   ┆ 2   ┆ 8   ┆ 3   │\n",
       "│ 4   ┆ 1   ┆ 5   ┆ 4   ┆ … ┆ 7   ┆ 8   ┆ 9   ┆ 6   │\n",
       "│ 5   ┆ 3   ┆ 6   ┆ 9   ┆ … ┆ 5   ┆ 7   ┆ 2   ┆ 1   │\n",
       "│ 6   ┆ 2   ┆ 8   ┆ 7   ┆ … ┆ 9   ┆ 5   ┆ 3   ┆ 4   │\n",
       "│ 7   ┆ 5   ┆ 2   ┆ 1   ┆ … ┆ 4   ┆ 3   ┆ 6   ┆ 8   │\n",
       "│ 8   ┆ 4   ┆ 3   ┆ 8   ┆ … ┆ 6   ┆ 9   ┆ 1   ┆ 7   │\n",
       "│ 9   ┆ 7   ┆ 9   ┆ 6   ┆ … ┆ 8   ┆ 4   ┆ 5   ┆ 2   │\n",
       "└─────┴─────┴─────┴─────┴───┴─────┴─────┴─────┴─────┘"
      ],
      "text/html": [
       "<div><style>\n",
       ".dataframe > thead > tr,\n",
       ".dataframe > tbody > tr {\n",
       "  text-align: right;\n",
       "  white-space: pre-wrap;\n",
       "}\n",
       "</style>\n",
       "<small>shape: (9, 10)</small><table border=\"1\" class=\"dataframe\"><thead><tr><th>row</th><th>1</th><th>2</th><th>3</th><th>4</th><th>5</th><th>6</th><th>7</th><th>8</th><th>9</th></tr><tr><td>i64</td><td>i64</td><td>i64</td><td>i64</td><td>i64</td><td>i64</td><td>i64</td><td>i64</td><td>i64</td><td>i64</td></tr></thead><tbody><tr><td>1</td><td>8</td><td>1</td><td>2</td><td>7</td><td>5</td><td>3</td><td>6</td><td>4</td><td>9</td></tr><tr><td>2</td><td>9</td><td>4</td><td>3</td><td>6</td><td>8</td><td>2</td><td>1</td><td>7</td><td>5</td></tr><tr><td>3</td><td>6</td><td>7</td><td>5</td><td>4</td><td>9</td><td>1</td><td>2</td><td>8</td><td>3</td></tr><tr><td>4</td><td>1</td><td>5</td><td>4</td><td>2</td><td>3</td><td>7</td><td>8</td><td>9</td><td>6</td></tr><tr><td>5</td><td>3</td><td>6</td><td>9</td><td>8</td><td>4</td><td>5</td><td>7</td><td>2</td><td>1</td></tr><tr><td>6</td><td>2</td><td>8</td><td>7</td><td>1</td><td>6</td><td>9</td><td>5</td><td>3</td><td>4</td></tr><tr><td>7</td><td>5</td><td>2</td><td>1</td><td>9</td><td>7</td><td>4</td><td>3</td><td>6</td><td>8</td></tr><tr><td>8</td><td>4</td><td>3</td><td>8</td><td>5</td><td>2</td><td>6</td><td>9</td><td>1</td><td>7</td></tr><tr><td>9</td><td>7</td><td>9</td><td>6</td><td>3</td><td>1</td><td>8</td><td>4</td><td>5</td><td>2</td></tr></tbody></table></div>"
      ]
     },
     "execution_count": 89,
     "metadata": {},
     "output_type": "execute_result"
    }
   ],
   "execution_count": 89
  },
  {
   "metadata": {
    "ExecuteTime": {
     "end_time": "2025-04-24T15:23:34.508511Z",
     "start_time": "2025-04-24T15:23:34.500601Z"
    }
   },
   "cell_type": "code",
   "source": "m.write('sudoku_model.lp')",
   "id": "ba73fad33f50bac6",
   "outputs": [
    {
     "name": "stdout",
     "output_type": "stream",
     "text": [
      "Writing the model to sudoku_model.lp\n"
     ]
    }
   ],
   "execution_count": 90
  }
 ],
 "metadata": {
  "kernelspec": {
   "display_name": "Python 3",
   "language": "python",
   "name": "python3"
  },
  "language_info": {
   "codemirror_mode": {
    "name": "ipython",
    "version": 2
   },
   "file_extension": ".py",
   "mimetype": "text/x-python",
   "name": "python",
   "nbconvert_exporter": "python",
   "pygments_lexer": "ipython2",
   "version": "2.7.6"
  }
 },
 "nbformat": 4,
 "nbformat_minor": 5
}
