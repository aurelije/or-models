{
 "cells": [
  {
   "metadata": {},
   "cell_type": "markdown",
   "source": "Book Einführung in Optimirungsmodelle from Nathan Sudermann-Merx page 120",
   "id": "fe8789f3b2482f55"
  },
  {
   "metadata": {
    "ExecuteTime": {
     "end_time": "2025-04-24T15:27:01.721739Z",
     "start_time": "2025-04-24T15:26:57.919256Z"
    }
   },
   "cell_type": "code",
   "source": [
    "import polars as pl\n",
    "import pyoframe as pf"
   ],
   "id": "79cde3d8ddfea06f",
   "outputs": [],
   "execution_count": 1
  },
  {
   "metadata": {
    "ExecuteTime": {
     "end_time": "2025-04-24T15:27:02.354439Z",
     "start_time": "2025-04-24T15:27:02.207086Z"
    }
   },
   "cell_type": "code",
   "source": [
    "df = pl.read_csv('./elspot-prices_2021_hourly_eur.csv', try_parse_dates=True)\n",
    "# use time zone to fix DST problem in the end of October where one hour is \"duplicated\"\n",
    "time_tick = pl.datetime_range(start=df.select(\"Date\").min().select(Date=pl.col('Date') - pl.duration(hours=3)),\n",
    "                              end=df.select(\"Date\").max().select(Date=pl.col('Date') + pl.duration(days=1)),\n",
    "                              interval='1h', eager=True, time_zone='UTC', closed='none').dt.convert_time_zone(\n",
    "    'Europe/Prague').alias('tick').to_frame().filter(\n",
    "    pl.col(\"tick\").is_between(pl.datetime(2021, 1, 1, time_zone='Europe/Prague'),\n",
    "                              pl.datetime(2022, 1, 1, time_zone='Europe/Prague'), closed='left'))"
   ],
   "id": "20207edca62824d3",
   "outputs": [],
   "execution_count": 2
  },
  {
   "metadata": {
    "ExecuteTime": {
     "end_time": "2025-04-24T15:27:02.380647Z",
     "start_time": "2025-04-24T15:27:02.377747Z"
    }
   },
   "cell_type": "code",
   "source": [
    "# fix DST problem at the end of March where one hour is \"missing\" so it is filled with null\n",
    "# kids, please do not do use dates without time zone at home\n",
    "df = df.drop_nulls()\n"
   ],
   "id": "5c94493d838edb35",
   "outputs": [],
   "execution_count": 3
  },
  {
   "metadata": {
    "ExecuteTime": {
     "end_time": "2025-04-24T15:27:02.396469Z",
     "start_time": "2025-04-24T15:27:02.393334Z"
    }
   },
   "cell_type": "code",
   "source": [
    "hourly_prices = pl.concat((time_tick, df), how='horizontal').select(pl.col('tick'),\n",
    "                                                                    pl.col('DE-LU').str.replace(',', '.',\n",
    "                                                                                                literal=True).str.to_decimal().alias(\n",
    "                                                                        'price'))"
   ],
   "id": "3034ae194b83a37d",
   "outputs": [],
   "execution_count": 4
  },
  {
   "metadata": {
    "ExecuteTime": {
     "end_time": "2025-04-24T15:27:02.409067Z",
     "start_time": "2025-04-24T15:27:02.406379Z"
    }
   },
   "cell_type": "code",
   "source": [
    "pump_max = 70\n",
    "turb_max = 90\n",
    "effic = 0.75\n",
    "storage_capacity = 630\n",
    "storage_lower_bound = 100\n",
    "storage_level_init = 300\n",
    "storage_level_final = 300\n",
    "tick_with_initial = pl.concat((time_tick.min().with_columns(pl.col(\"tick\").dt.offset_by('-1h')), time_tick))"
   ],
   "id": "f82bd0f1c4c3d553",
   "outputs": [],
   "execution_count": 5
  },
  {
   "metadata": {},
   "cell_type": "markdown",
   "source": "Decision variables:",
   "id": "106154cbb1ce8aff"
  },
  {
   "metadata": {
    "ExecuteTime": {
     "end_time": "2025-04-24T15:27:02.507995Z",
     "start_time": "2025-04-24T15:27:02.416757Z"
    }
   },
   "cell_type": "code",
   "source": [
    "m = pf.Model(\"unit commitment problem\", solver=\"highs\", use_var_names=True)\n",
    "\n",
    "m.Pump = pf.Variable(time_tick[['tick']], vtype=pf.VType.BINARY)\n",
    "# ub is redundant since it will be set also in logical condition that pump and turbine cannot work at the same time\n",
    "m.Turb = pf.Variable(time_tick[['tick']], lb=0, ub=turb_max)\n",
    "m.Storage_level = pf.Variable(tick_with_initial, lb=storage_lower_bound, ub=storage_capacity)\n",
    "m.initial_storage_level = m.Storage_level.filter(\n",
    "    pl.col('tick') == tick_with_initial[['tick']].min()) == storage_level_init\n",
    "m.final_storage_level = m.Storage_level.filter(pl.col('tick') == time_tick[['tick']].max()) == storage_level_final"
   ],
   "id": "a0f2034856dd957",
   "outputs": [
    {
     "name": "stdout",
     "output_type": "stream",
     "text": [
      "Running HiGHS 1.10.0 (git hash: fd86653): Copyright (c) 2025 HiGHS under MIT licence terms\n"
     ]
    }
   ],
   "execution_count": 6
  },
  {
   "metadata": {
    "ExecuteTime": {
     "end_time": "2025-04-24T15:27:02.520444Z",
     "start_time": "2025-04-24T15:27:02.517863Z"
    }
   },
   "cell_type": "code",
   "source": [
    "\n",
    "previous_hour_storage_level = m.Storage_level.with_columns(pl.col('tick').dt.offset_by('1h'))\n"
   ],
   "id": "de790c7135e6c4b3",
   "outputs": [],
   "execution_count": 7
  },
  {
   "metadata": {
    "ExecuteTime": {
     "end_time": "2025-04-24T15:27:22.147474Z",
     "start_time": "2025-04-24T15:27:02.540079Z"
    }
   },
   "cell_type": "code",
   "source": [
    "\n",
    "m.intermediate_storage_level = m.Storage_level.drop_unmatched() == (previous_hour_storage_level.drop_unmatched() + (\n",
    "            m.Pump * pump_max * effic - m.Turb).drop_unmatched()).drop_unmatched()\n",
    "m.pump_and_turbine_xor = m.Turb <= (1 - m.Pump) * turb_max\n",
    "\n",
    "m.maximize = pf.sum((m.Turb - pump_max * m.Pump) * hourly_prices)\n",
    "\n",
    "m.optimize()\n",
    "m.write('unit_commitment_problem.lp')\n",
    "m.Turb.solution.write_csv('turbine.csv')\n",
    "m.Storage_level.solution.write_csv('storage.csv')\n",
    "m.Pump.solution.write_csv('pump.csv')"
   ],
   "id": "d135bd4b5274f9c8",
   "outputs": [
    {
     "name": "stdout",
     "output_type": "stream",
     "text": [
      "Hessian has dimension 26282 but no nonzeros, so is ignored\n",
      "MIP  has 17522 rows; 26282 cols; 61324 nonzeros; 8760 integer variables (8760 binary)\n",
      "Coefficient ranges:\n",
      "  Matrix [1e+00, 3e+02]\n",
      "  Cost   [1e-02, 4e+04]\n",
      "  Bound  [1e+00, 6e+02]\n",
      "  RHS    [0e+00, 0e+00]\n",
      "Presolving model\n",
      "17520 rows, 26279 cols, 52558 nonzeros  0s\n",
      "17518 rows, 26277 cols, 52554 nonzeros  0s\n",
      "\n",
      "Solving MIP model with:\n",
      "   17518 rows\n",
      "   26277 cols (8760 binary, 0 integer, 0 implied int., 17517 continuous)\n",
      "   52554 nonzeros\n",
      "\n",
      "Src: B => Branching; C => Central rounding; F => Feasibility pump; H => Heuristic; L => Sub-MIP;\n",
      "     P => Empty MIP; R => Randomized rounding; S => Solve LP; T => Evaluate node; U => Unbounded;\n",
      "     z => Trivial zero; l => Trivial lower; u => Trivial upper; p => Trivial point; X => User solution\n",
      "\n",
      "        Nodes      |    B&B Tree     |            Objective Bounds              |  Dynamic Constraints |       Work      \n",
      "Src  Proc. InQueue |  Leaves   Expl. | BestBound       BestSol              Gap |   Cuts   InLp Confl. | LpIters     Time\n",
      "\n",
      "         0       0         0   0.00%   76720264        -inf                 inf        0      0      0         0     0.1s\n",
      "         0       0         0   0.00%   6350381.27807   -inf                 inf        0      0      4     10802     0.2s\n",
      " R       0       0         0   0.00%   6345374.17908   6339156.35         0.10%      506    181      5     11001     0.4s\n",
      " L       0       0         0   0.00%   6342482.259551  6341815.35         0.01%     1312    390      5     11294     5.7s\n",
      "         1       0         1 100.00%   6342402.107359  6341815.35         0.01%     1420    407      5     12525     7.0s\n",
      "\n",
      "Solving report\n",
      "  Status            Optimal\n",
      "  Primal bound      6341815.35\n",
      "  Dual bound        6342402.10736\n",
      "  Gap               0.00925% (tolerance: 0.01%)\n",
      "  P-D integral      0.00318432372766\n",
      "  Solution status   feasible\n",
      "                    6341815.35 (objective)\n",
      "                    0 (bound viol.)\n",
      "                    5.36792832406e-15 (int. viol.)\n",
      "                    0 (row viol.)\n",
      "  Timing            6.96 (total)\n",
      "                    0.00 (presolve)\n",
      "                    0.00 (solve)\n",
      "                    0.00 (postsolve)\n",
      "  Max sub-MIP depth 10\n",
      "  Nodes             1\n",
      "  Repair LPs        0 (0 feasible; 0 iterations)\n",
      "  LP iterations     12525 (total)\n",
      "                    0 (strong br.)\n",
      "                    512 (separation)\n",
      "                    1208 (heuristics)\n",
      "Writing the model to unit_commitment_problem.lp\n"
     ]
    }
   ],
   "execution_count": 8
  }
 ],
 "metadata": {
  "kernelspec": {
   "display_name": "Python 3",
   "language": "python",
   "name": "python3"
  },
  "language_info": {
   "codemirror_mode": {
    "name": "ipython",
    "version": 2
   },
   "file_extension": ".py",
   "mimetype": "text/x-python",
   "name": "python",
   "nbconvert_exporter": "python",
   "pygments_lexer": "ipython2",
   "version": "2.7.6"
  }
 },
 "nbformat": 4,
 "nbformat_minor": 5
}
