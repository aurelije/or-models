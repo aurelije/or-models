{
 "cells": [
  {
   "metadata": {},
   "cell_type": "markdown",
   "source": "Book Einführung in Optimirungsmodelle from Nathan Sudermann-Merx page 120",
   "id": "fe8789f3b2482f55"
  },
  {
   "metadata": {
    "ExecuteTime": {
     "end_time": "2025-05-20T15:31:27.003511Z",
     "start_time": "2025-05-20T15:31:27.001416Z"
    }
   },
   "cell_type": "code",
   "source": [
    "import polars as pl\n",
    "import pyoframe as pf\n",
    "from pathlib import Path"
   ],
   "id": "79cde3d8ddfea06f",
   "outputs": [],
   "execution_count": 39
  },
  {
   "metadata": {
    "ExecuteTime": {
     "end_time": "2025-05-20T15:31:27.030434Z",
     "start_time": "2025-05-20T15:31:27.027237Z"
    }
   },
   "cell_type": "code",
   "source": [
    "def read_hourly_prices():\n",
    "    \"\"\"Read hourly prices from CSV file and return a DataFrame.\n",
    "    Special attention is paid to properly parse daylight saving time (DST) changes.\"\"\"\n",
    "    df = pl.read_csv(\n",
    "        Path(\"./elspot-prices_2021_hourly_eur.csv\"),\n",
    "        try_parse_dates=True,\n",
    "    ).drop_nulls(subset=[\"DE-LU\"])\n",
    "\n",
    "    df = df.select(\n",
    "        pl.datetime(\n",
    "            pl.col(\"Date\").dt.year(),\n",
    "            pl.col(\"Date\").dt.month(),\n",
    "            pl.col(\"Date\").dt.day(),\n",
    "            pl.col(\"Hours\").str.slice(0, 2).cast(pl.Int32),\n",
    "            time_zone=\"Europe/Prague\",\n",
    "            ambiguous=pl.when(\n",
    "                pl.concat_str(pl.col(\"Date\"), pl.col(\"Hours\")).is_first_distinct()\n",
    "            )\n",
    "            .then(pl.lit(\"earliest\"))\n",
    "            .otherwise(pl.lit(\"latest\")),\n",
    "        ).alias(\"tick\"),\n",
    "        pl.col(\"DE-LU\").str.replace(\",\", \".\", literal=True).cast(float).alias(\"price\"),\n",
    "    )\n",
    "\n",
    "    return df"
   ],
   "id": "20207edca62824d3",
   "outputs": [],
   "execution_count": 40
  },
  {
   "metadata": {},
   "cell_type": "markdown",
   "source": "Read input data and set parameters",
   "id": "f7d46ad5c389892c"
  },
  {
   "metadata": {
    "ExecuteTime": {
     "end_time": "2025-05-20T15:31:27.062874Z",
     "start_time": "2025-05-20T15:31:27.055619Z"
    }
   },
   "cell_type": "code",
   "source": [
    "hourly_prices = read_hourly_prices()\n",
    "pump_max, turb_max = 70, 90\n",
    "storage_min, storage_max = 100, 630\n",
    "storage_level_init_and_final = 300\n",
    "efficiency = 0.75"
   ],
   "id": "f82bd0f1c4c3d553",
   "outputs": [],
   "execution_count": 41
  },
  {
   "metadata": {
    "ExecuteTime": {
     "end_time": "2025-05-20T15:31:27.093108Z",
     "start_time": "2025-05-20T15:31:27.090832Z"
    }
   },
   "cell_type": "code",
   "source": "hourly_prices",
   "id": "f8bff2017429d160",
   "outputs": [
    {
     "data": {
      "text/plain": [
       "shape: (8_760, 2)\n",
       "┌─────────────────────────────┬───────┐\n",
       "│ tick                        ┆ price │\n",
       "│ ---                         ┆ ---   │\n",
       "│ datetime[μs, Europe/Prague] ┆ f64   │\n",
       "╞═════════════════════════════╪═══════╡\n",
       "│ 2021-01-01 00:00:00 CET     ┆ 50.87 │\n",
       "│ 2021-01-01 01:00:00 CET     ┆ 48.19 │\n",
       "│ 2021-01-01 02:00:00 CET     ┆ 44.68 │\n",
       "│ 2021-01-01 03:00:00 CET     ┆ 42.92 │\n",
       "│ 2021-01-01 04:00:00 CET     ┆ 40.39 │\n",
       "│ …                           ┆ …     │\n",
       "│ 2021-12-31 19:00:00 CET     ┆ 32.49 │\n",
       "│ 2021-12-31 20:00:00 CET     ┆ 0.18  │\n",
       "│ 2021-12-31 21:00:00 CET     ┆ 0.08  │\n",
       "│ 2021-12-31 22:00:00 CET     ┆ 5.1   │\n",
       "│ 2021-12-31 23:00:00 CET     ┆ 6.32  │\n",
       "└─────────────────────────────┴───────┘"
      ],
      "text/html": [
       "<div><style>\n",
       ".dataframe > thead > tr,\n",
       ".dataframe > tbody > tr {\n",
       "  text-align: right;\n",
       "  white-space: pre-wrap;\n",
       "}\n",
       "</style>\n",
       "<small>shape: (8_760, 2)</small><table border=\"1\" class=\"dataframe\"><thead><tr><th>tick</th><th>price</th></tr><tr><td>datetime[μs, Europe/Prague]</td><td>f64</td></tr></thead><tbody><tr><td>2021-01-01 00:00:00 CET</td><td>50.87</td></tr><tr><td>2021-01-01 01:00:00 CET</td><td>48.19</td></tr><tr><td>2021-01-01 02:00:00 CET</td><td>44.68</td></tr><tr><td>2021-01-01 03:00:00 CET</td><td>42.92</td></tr><tr><td>2021-01-01 04:00:00 CET</td><td>40.39</td></tr><tr><td>&hellip;</td><td>&hellip;</td></tr><tr><td>2021-12-31 19:00:00 CET</td><td>32.49</td></tr><tr><td>2021-12-31 20:00:00 CET</td><td>0.18</td></tr><tr><td>2021-12-31 21:00:00 CET</td><td>0.08</td></tr><tr><td>2021-12-31 22:00:00 CET</td><td>5.1</td></tr><tr><td>2021-12-31 23:00:00 CET</td><td>6.32</td></tr></tbody></table></div>"
      ]
     },
     "execution_count": 42,
     "metadata": {},
     "output_type": "execute_result"
    }
   ],
   "execution_count": 42
  },
  {
   "metadata": {},
   "cell_type": "markdown",
   "source": "Decision variables:",
   "id": "106154cbb1ce8aff"
  },
  {
   "metadata": {
    "ExecuteTime": {
     "end_time": "2025-05-20T15:31:27.188297Z",
     "start_time": "2025-05-20T15:31:27.129182Z"
    }
   },
   "cell_type": "code",
   "source": [
    "m = pf.Model(\"unit commitment problem\", solver='highs', use_var_names=True)\n",
    "\n",
    "m.Pump = pf.Variable(hourly_prices[[\"tick\"]], vtype=pf.VType.BINARY)\n",
    "# ub is redundant since it will be set also in logical condition that pump and turbine cannot work at the same time\n",
    "m.Turb = pf.Variable(hourly_prices[[\"tick\"]], lb=0, ub=turb_max)\n",
    "m.Storage_level = pf.Variable(\n",
    "    hourly_prices[[\"tick\"]], lb=storage_min, ub=storage_max\n",
    ")"
   ],
   "id": "a0f2034856dd957",
   "outputs": [
    {
     "name": "stdout",
     "output_type": "stream",
     "text": [
      "Running HiGHS 1.10.0 (git hash: fd86653): Copyright (c) 2025 HiGHS under MIT licence terms\n"
     ]
    }
   ],
   "execution_count": 43
  },
  {
   "metadata": {
    "ExecuteTime": {
     "end_time": "2025-05-20T15:31:27.209234Z",
     "start_time": "2025-05-20T15:31:27.207024Z"
    }
   },
   "cell_type": "code",
   "source": "m",
   "id": "64613e640233d082",
   "outputs": [
    {
     "data": {
      "text/plain": [
       "<Model name=unit commitment problem vars=3 constrs=0 objective=False>"
      ]
     },
     "execution_count": 44,
     "metadata": {},
     "output_type": "execute_result"
    }
   ],
   "execution_count": 44
  },
  {
   "metadata": {
    "ExecuteTime": {
     "end_time": "2025-05-20T15:31:27.265388Z",
     "start_time": "2025-05-20T15:31:27.255918Z"
    }
   },
   "cell_type": "code",
   "source": "m.Pump",
   "id": "6a4c7f52fd4b10e7",
   "outputs": [
    {
     "data": {
      "text/plain": [
       "<Variable name=Pump size=8760 dimensions={'tick': 8760}>\n",
       "[2021-01-01_00:00:00.000000+01:00]: Pump[2021-01-01_00:00:00.000000+01:00]\n",
       "[2021-01-01_01:00:00.000000+01:00]: Pump[2021-01-01_01:00:00.000000+01:00]\n",
       "[2021-01-01_02:00:00.000000+01:00]: Pump[2021-01-01_02:00:00.000000+01:00]\n",
       "[2021-01-01_03:00:00.000000+01:00]: Pump[2021-01-01_03:00:00.000000+01:00]\n",
       "[2021-01-01_04:00:00.000000+01:00]: Pump[2021-01-01_04:00:00.000000+01:00]\n",
       "[2021-01-01_05:00:00.000000+01:00]: Pump[2021-01-01_05:00:00.000000+01:00]\n",
       "[2021-01-01_06:00:00.000000+01:00]: Pump[2021-01-01_06:00:00.000000+01:00]\n",
       "[2021-01-01_07:00:00.000000+01:00]: Pump[2021-01-01_07:00:00.000000+01:00]\n",
       "[2021-01-01_08:00:00.000000+01:00]: Pump[2021-01-01_08:00:00.000000+01:00]\n",
       "[2021-01-01_09:00:00.000000+01:00]: Pump[2021-01-01_09:00:00.000000+01:00]\n",
       "[2021-01-01_10:00:00.000000+01:00]: Pump[2021-01-01_10:00:00.000000+01:00]\n",
       "[2021-01-01_11:00:00.000000+01:00]: Pump[2021-01-01_11:00:00.000000+01:00]\n",
       "[2021-01-01_12:00:00.000000+01:00]: Pump[2021-01-01_12:00:00.000000+01:00]\n",
       "[2021-01-01_13:00:00.000000+01:00]: Pump[2021-01-01_13:00:00.000000+01:00]\n",
       "[2021-01-01_14:00:00.000000+01:00]: Pump[2021-01-01_14:00:00.000000+01:00]"
      ]
     },
     "execution_count": 45,
     "metadata": {},
     "output_type": "execute_result"
    }
   ],
   "execution_count": 45
  },
  {
   "metadata": {
    "ExecuteTime": {
     "end_time": "2025-05-20T15:31:27.289529Z",
     "start_time": "2025-05-20T15:31:27.280169Z"
    }
   },
   "cell_type": "code",
   "source": "m.Turb",
   "id": "4b1cf64b5143b6c6",
   "outputs": [
    {
     "data": {
      "text/plain": [
       "<Variable name=Turb lb=0 ub=90 size=8760 dimensions={'tick': 8760}>\n",
       "[2021-01-01_00:00:00.000000+01:00]: Turb[2021-01-01_00:00:00.000000+01:00]\n",
       "[2021-01-01_01:00:00.000000+01:00]: Turb[2021-01-01_01:00:00.000000+01:00]\n",
       "[2021-01-01_02:00:00.000000+01:00]: Turb[2021-01-01_02:00:00.000000+01:00]\n",
       "[2021-01-01_03:00:00.000000+01:00]: Turb[2021-01-01_03:00:00.000000+01:00]\n",
       "[2021-01-01_04:00:00.000000+01:00]: Turb[2021-01-01_04:00:00.000000+01:00]\n",
       "[2021-01-01_05:00:00.000000+01:00]: Turb[2021-01-01_05:00:00.000000+01:00]\n",
       "[2021-01-01_06:00:00.000000+01:00]: Turb[2021-01-01_06:00:00.000000+01:00]\n",
       "[2021-01-01_07:00:00.000000+01:00]: Turb[2021-01-01_07:00:00.000000+01:00]\n",
       "[2021-01-01_08:00:00.000000+01:00]: Turb[2021-01-01_08:00:00.000000+01:00]\n",
       "[2021-01-01_09:00:00.000000+01:00]: Turb[2021-01-01_09:00:00.000000+01:00]\n",
       "[2021-01-01_10:00:00.000000+01:00]: Turb[2021-01-01_10:00:00.000000+01:00]\n",
       "[2021-01-01_11:00:00.000000+01:00]: Turb[2021-01-01_11:00:00.000000+01:00]\n",
       "[2021-01-01_12:00:00.000000+01:00]: Turb[2021-01-01_12:00:00.000000+01:00]\n",
       "[2021-01-01_13:00:00.000000+01:00]: Turb[2021-01-01_13:00:00.000000+01:00]\n",
       "[2021-01-01_14:00:00.000000+01:00]: Turb[2021-01-01_14:00:00.000000+01:00]"
      ]
     },
     "execution_count": 46,
     "metadata": {},
     "output_type": "execute_result"
    }
   ],
   "execution_count": 46
  },
  {
   "metadata": {
    "ExecuteTime": {
     "end_time": "2025-05-20T15:31:27.321693Z",
     "start_time": "2025-05-20T15:31:27.311980Z"
    }
   },
   "cell_type": "code",
   "source": "m.Storage_level",
   "id": "319c60c679aafcaf",
   "outputs": [
    {
     "data": {
      "text/plain": [
       "<Variable name=Storage_level lb=100 ub=630 size=8760 dimensions={'tick': 8760}>\n",
       "[2021-01-01_00:00:00.000000+01:00]: Storage_level[2021-01-01_00:00:00.000000+01:00]\n",
       "[2021-01-01_01:00:00.000000+01:00]: Storage_level[2021-01-01_01:00:00.000000+01:00]\n",
       "[2021-01-01_02:00:00.000000+01:00]: Storage_level[2021-01-01_02:00:00.000000+01:00]\n",
       "[2021-01-01_03:00:00.000000+01:00]: Storage_level[2021-01-01_03:00:00.000000+01:00]\n",
       "[2021-01-01_04:00:00.000000+01:00]: Storage_level[2021-01-01_04:00:00.000000+01:00]\n",
       "[2021-01-01_05:00:00.000000+01:00]: Storage_level[2021-01-01_05:00:00.000000+01:00]\n",
       "[2021-01-01_06:00:00.000000+01:00]: Storage_level[2021-01-01_06:00:00.000000+01:00]\n",
       "[2021-01-01_07:00:00.000000+01:00]: Storage_level[2021-01-01_07:00:00.000000+01:00]\n",
       "[2021-01-01_08:00:00.000000+01:00]: Storage_level[2021-01-01_08:00:00.000000+01:00]\n",
       "[2021-01-01_09:00:00.000000+01:00]: Storage_level[2021-01-01_09:00:00.000000+01:00]\n",
       "[2021-01-01_10:00:00.000000+01:00]: Storage_level[2021-01-01_10:00:00.000000+01:00]\n",
       "[2021-01-01_11:00:00.000000+01:00]: Storage_level[2021-01-01_11:00:00.000000+01:00]\n",
       "[2021-01-01_12:00:00.000000+01:00]: Storage_level[2021-01-01_12:00:00.000000+01:00]\n",
       "[2021-01-01_13:00:00.000000+01:00]: Storage_level[2021-01-01_13:00:00.000000+01:00]\n",
       "[2021-01-01_14:00:00.000000+01:00]: Storage_level[2021-01-01_14:00:00.000000+01:00]"
      ]
     },
     "execution_count": 47,
     "metadata": {},
     "output_type": "execute_result"
    }
   ],
   "execution_count": 47
  },
  {
   "metadata": {
    "ExecuteTime": {
     "end_time": "2025-05-20T15:31:27.427264Z",
     "start_time": "2025-05-20T15:31:27.338808Z"
    }
   },
   "cell_type": "code",
   "source": [
    "m.initial_storage_level = (\n",
    "        m.Storage_level.filter(\n",
    "            pl.col(\"tick\") == hourly_prices[\"tick\"].min()\n",
    "        )\n",
    "        == storage_level_init_and_final\n",
    ")\n",
    "\n",
    "m.intermediate_storage_level = (\n",
    "        m.Storage_level.next(dim=\"tick\", wrap_around=True)\n",
    "        == m.Storage_level + m.Pump * pump_max * efficiency - m.Turb\n",
    ")\n",
    "\n",
    "m.pump_and_turbine_xor = m.Turb <= (1 - m.Pump) * turb_max"
   ],
   "id": "829321183f85afb6",
   "outputs": [],
   "execution_count": 48
  },
  {
   "metadata": {
    "ExecuteTime": {
     "end_time": "2025-05-20T15:31:27.435623Z",
     "start_time": "2025-05-20T15:31:27.433538Z"
    }
   },
   "cell_type": "code",
   "source": "m",
   "id": "30ceea5f30cd691a",
   "outputs": [
    {
     "data": {
      "text/plain": [
       "<Model name=unit commitment problem vars=3 constrs=3 objective=False>"
      ]
     },
     "execution_count": 49,
     "metadata": {},
     "output_type": "execute_result"
    }
   ],
   "execution_count": 49
  },
  {
   "metadata": {
    "ExecuteTime": {
     "end_time": "2025-05-20T15:31:27.486918Z",
     "start_time": "2025-05-20T15:31:27.481131Z"
    }
   },
   "cell_type": "code",
   "source": "m.initial_storage_level",
   "id": "a7f2fb28340ad381",
   "outputs": [
    {
     "data": {
      "text/plain": [
       "<Constraint name=initial_storage_level sense='=' size=1 dimensions={'tick': 1} terms=2>\n",
       "[2021-01-01_00:00:00.000000+01:00]: Storage_level[2021-01-01_00:00:00.000000+01:00] = 300"
      ]
     },
     "execution_count": 50,
     "metadata": {},
     "output_type": "execute_result"
    }
   ],
   "execution_count": 50
  },
  {
   "metadata": {
    "ExecuteTime": {
     "end_time": "2025-05-20T15:31:27.523756Z",
     "start_time": "2025-05-20T15:31:27.507508Z"
    }
   },
   "cell_type": "code",
   "source": "m.intermediate_storage_level",
   "id": "4441a7e1d294b472",
   "outputs": [
    {
     "data": {
      "text/plain": [
       "<Constraint name=intermediate_storage_level sense='=' size=8760 dimensions={'tick': 8760} terms=35040>\n",
       "[2021-01-01_00:00:00.000000+01:00]: Storage_level[2021-01-01_01:00:00.000000+01:00] - Storage_level[2021-01-01_00:00... = 0\n",
       "[2021-01-01_01:00:00.000000+01:00]: Storage_level[2021-01-01_02:00:00.000000+01:00] - Storage_level[2021-01-01_01:00... = 0\n",
       "[2021-01-01_02:00:00.000000+01:00]: Storage_level[2021-01-01_03:00:00.000000+01:00] - Storage_level[2021-01-01_02:00... = 0\n",
       "[2021-01-01_03:00:00.000000+01:00]: Storage_level[2021-01-01_04:00:00.000000+01:00] - Storage_level[2021-01-01_03:00... = 0\n",
       "[2021-01-01_04:00:00.000000+01:00]: Storage_level[2021-01-01_05:00:00.000000+01:00] - Storage_level[2021-01-01_04:00... = 0\n",
       "[2021-01-01_05:00:00.000000+01:00]: Storage_level[2021-01-01_06:00:00.000000+01:00] - Storage_level[2021-01-01_05:00... = 0\n",
       "[2021-01-01_06:00:00.000000+01:00]: Storage_level[2021-01-01_07:00:00.000000+01:00] - Storage_level[2021-01-01_06:00... = 0\n",
       "[2021-01-01_07:00:00.000000+01:00]: Storage_level[2021-01-01_08:00:00.000000+01:00] - Storage_level[2021-01-01_07:00... = 0\n",
       "[2021-01-01_08:00:00.000000+01:00]: Storage_level[2021-01-01_09:00:00.000000+01:00] - Storage_level[2021-01-01_08:00... = 0\n",
       "[2021-01-01_09:00:00.000000+01:00]: Storage_level[2021-01-01_10:00:00.000000+01:00] - Storage_level[2021-01-01_09:00... = 0\n",
       "[2021-01-01_10:00:00.000000+01:00]: Storage_level[2021-01-01_11:00:00.000000+01:00] - Storage_level[2021-01-01_10:00... = 0\n",
       "[2021-01-01_11:00:00.000000+01:00]: Storage_level[2021-01-01_12:00:00.000000+01:00] - Storage_level[2021-01-01_11:00... = 0\n",
       "[2021-01-01_12:00:00.000000+01:00]: Storage_level[2021-01-01_13:00:00.000000+01:00] - Storage_level[2021-01-01_12:00... = 0\n",
       "[2021-01-01_13:00:00.000000+01:00]: Storage_level[2021-01-01_14:00:00.000000+01:00] - Storage_level[2021-01-01_13:00... = 0\n",
       "[2021-01-01_14:00:00.000000+01:00]: Storage_level[2021-01-01_15:00:00.000000+01:00] - Storage_level[2021-01-01_14:00... = 0"
      ]
     },
     "execution_count": 51,
     "metadata": {},
     "output_type": "execute_result"
    }
   ],
   "execution_count": 51
  },
  {
   "metadata": {
    "ExecuteTime": {
     "end_time": "2025-05-20T15:31:27.555545Z",
     "start_time": "2025-05-20T15:31:27.541314Z"
    }
   },
   "cell_type": "code",
   "source": "m.pump_and_turbine_xor",
   "id": "306360806f4d0710",
   "outputs": [
    {
     "data": {
      "text/plain": [
       "<Constraint name=pump_and_turbine_xor sense='<=' size=8760 dimensions={'tick': 8760} terms=26280>\n",
       "[2021-01-01_00:00:00.000000+01:00]: Turb[2021-01-01_00:00:00.000000+01:00] +90 Pump[2021-01-01_00:00:00.000000+01:00... <= 90\n",
       "[2021-01-01_01:00:00.000000+01:00]: Turb[2021-01-01_01:00:00.000000+01:00] +90 Pump[2021-01-01_01:00:00.000000+01:00... <= 90\n",
       "[2021-01-01_02:00:00.000000+01:00]: Turb[2021-01-01_02:00:00.000000+01:00] +90 Pump[2021-01-01_02:00:00.000000+01:00... <= 90\n",
       "[2021-01-01_03:00:00.000000+01:00]: Turb[2021-01-01_03:00:00.000000+01:00] +90 Pump[2021-01-01_03:00:00.000000+01:00... <= 90\n",
       "[2021-01-01_04:00:00.000000+01:00]: Turb[2021-01-01_04:00:00.000000+01:00] +90 Pump[2021-01-01_04:00:00.000000+01:00... <= 90\n",
       "[2021-01-01_05:00:00.000000+01:00]: Turb[2021-01-01_05:00:00.000000+01:00] +90 Pump[2021-01-01_05:00:00.000000+01:00... <= 90\n",
       "[2021-01-01_06:00:00.000000+01:00]: Turb[2021-01-01_06:00:00.000000+01:00] +90 Pump[2021-01-01_06:00:00.000000+01:00... <= 90\n",
       "[2021-01-01_07:00:00.000000+01:00]: Turb[2021-01-01_07:00:00.000000+01:00] +90 Pump[2021-01-01_07:00:00.000000+01:00... <= 90\n",
       "[2021-01-01_08:00:00.000000+01:00]: Turb[2021-01-01_08:00:00.000000+01:00] +90 Pump[2021-01-01_08:00:00.000000+01:00... <= 90\n",
       "[2021-01-01_09:00:00.000000+01:00]: Turb[2021-01-01_09:00:00.000000+01:00] +90 Pump[2021-01-01_09:00:00.000000+01:00... <= 90\n",
       "[2021-01-01_10:00:00.000000+01:00]: Turb[2021-01-01_10:00:00.000000+01:00] +90 Pump[2021-01-01_10:00:00.000000+01:00... <= 90\n",
       "[2021-01-01_11:00:00.000000+01:00]: Turb[2021-01-01_11:00:00.000000+01:00] +90 Pump[2021-01-01_11:00:00.000000+01:00... <= 90\n",
       "[2021-01-01_12:00:00.000000+01:00]: Turb[2021-01-01_12:00:00.000000+01:00] +90 Pump[2021-01-01_12:00:00.000000+01:00... <= 90\n",
       "[2021-01-01_13:00:00.000000+01:00]: Turb[2021-01-01_13:00:00.000000+01:00] +90 Pump[2021-01-01_13:00:00.000000+01:00... <= 90\n",
       "[2021-01-01_14:00:00.000000+01:00]: Turb[2021-01-01_14:00:00.000000+01:00] +90 Pump[2021-01-01_14:00:00.000000+01:00... <= 90"
      ]
     },
     "execution_count": 52,
     "metadata": {},
     "output_type": "execute_result"
    }
   ],
   "execution_count": 52
  },
  {
   "metadata": {
    "ExecuteTime": {
     "end_time": "2025-05-20T15:31:27.594985Z",
     "start_time": "2025-05-20T15:31:27.582418Z"
    }
   },
   "cell_type": "code",
   "source": "m.maximize = pf.sum((m.Turb - pump_max * m.Pump) * hourly_prices)",
   "id": "b8e6becd8ebc975e",
   "outputs": [
    {
     "name": "stdout",
     "output_type": "stream",
     "text": [
      "Hessian has dimension 26281 but no nonzeros, so is ignored\n"
     ]
    }
   ],
   "execution_count": 53
  },
  {
   "metadata": {
    "ExecuteTime": {
     "end_time": "2025-05-20T15:31:27.615254Z",
     "start_time": "2025-05-20T15:31:27.613078Z"
    }
   },
   "cell_type": "code",
   "source": "m",
   "id": "7381a1ce7e28c05b",
   "outputs": [
    {
     "data": {
      "text/plain": [
       "<Model name=unit commitment problem vars=3 constrs=3 objective=True>"
      ]
     },
     "execution_count": 54,
     "metadata": {},
     "output_type": "execute_result"
    }
   ],
   "execution_count": 54
  },
  {
   "metadata": {
    "ExecuteTime": {
     "end_time": "2025-05-20T15:31:27.645732Z",
     "start_time": "2025-05-20T15:31:27.638817Z"
    }
   },
   "cell_type": "code",
   "source": "m.objective",
   "id": "b42a8cedd55db98e",
   "outputs": [
    {
     "data": {
      "text/plain": [
       "<Objective size=1 dimensions={} terms=17506>\n",
       "objective: 50.87 Turb[2021-01-01_00:00:00.000000+01:00] -3560.9 Pump[2021-01-01_00:00:00.00..."
      ]
     },
     "execution_count": 55,
     "metadata": {},
     "output_type": "execute_result"
    }
   ],
   "execution_count": 55
  },
  {
   "metadata": {
    "ExecuteTime": {
     "end_time": "2025-05-20T15:32:00.714164Z",
     "start_time": "2025-05-20T15:31:27.666957Z"
    }
   },
   "cell_type": "code",
   "source": [
    "\n",
    "m.attr.RelativeGap = 1e-5\n",
    "\n",
    "m.optimize()"
   ],
   "id": "d135bd4b5274f9c8",
   "outputs": [
    {
     "name": "stdout",
     "output_type": "stream",
     "text": [
      "MIP  has 17521 rows; 26281 cols; 61322 nonzeros; 8760 integer variables (8760 binary)\n",
      "Coefficient ranges:\n",
      "  Matrix [1e+00, 3e+02]\n",
      "  Cost   [1e-02, 4e+04]\n",
      "  Bound  [1e+00, 6e+02]\n",
      "  RHS    [0e+00, 0e+00]\n",
      "Presolving model\n",
      "17520 rows, 26279 cols, 52558 nonzeros  0s\n",
      "17518 rows, 26277 cols, 52554 nonzeros  0s\n",
      "\n",
      "Solving MIP model with:\n",
      "   17518 rows\n",
      "   26277 cols (8760 binary, 0 integer, 0 implied int., 17517 continuous)\n",
      "   52554 nonzeros\n",
      "\n",
      "Src: B => Branching; C => Central rounding; F => Feasibility pump; H => Heuristic; L => Sub-MIP;\n",
      "     P => Empty MIP; R => Randomized rounding; S => Solve LP; T => Evaluate node; U => Unbounded;\n",
      "     z => Trivial zero; l => Trivial lower; u => Trivial upper; p => Trivial point; X => User solution\n",
      "\n",
      "        Nodes      |    B&B Tree     |            Objective Bounds              |  Dynamic Constraints |       Work      \n",
      "Src  Proc. InQueue |  Leaves   Expl. | BestBound       BestSol              Gap |   Cuts   InLp Confl. | LpIters     Time\n",
      "\n",
      "         0       0         0   0.00%   76720264        -inf                 inf        0      0      0         0     0.1s\n",
      "         0       0         0   0.00%   6350381.27807   -inf                 inf        0      0      4     10802     0.2s\n",
      " R       0       0         0   0.00%   6345374.17908   6339156.35         0.10%      506    181      5     11001     0.7s\n",
      " L       0       0         0   0.00%   6342482.259551  6341815.35         0.01%     1312    390      5     11294     7.3s\n",
      "\n",
      "58.3% inactive integer columns, restarting\n",
      "Model after restart has 7943 rows, 15630 cols (3649 bin., 0 int., 0 impl., 11981 cont.), and 27221 nonzeros\n",
      "\n",
      "         0       0         0   0.00%   6342402.107359  6341815.35         0.01%      278      0      0     13431     9.5s\n",
      "         0       0         0   0.00%   6342402.107359  6341815.35         0.01%      278    248      4     13981     9.6s\n",
      " L       0       0         0   0.00%   6342283.984515  6341820.375        0.01%      611    292      4     14031    12.7s\n",
      " L       0       0         0   0.00%   6342269.659286  6341825.15         0.01%      684    302      4     15261    13.5s\n",
      "\n",
      "16.4% inactive integer columns, restarting\n",
      "Model after restart has 6738 rows, 14222 cols (3052 bin., 0 int., 0 impl., 11170 cont.), and 24011 nonzeros\n",
      "\n",
      "         0       0         0   0.00%   6342250.693312  6341825.15         0.01%      260      0      0     15802    13.6s\n",
      "         0       0         0   0.00%   6342250.693312  6341825.15         0.01%      260    248      2     16166    13.7s\n",
      "\n",
      "10.7% inactive integer columns, restarting\n",
      "Model after restart has 6067 rows, 13402 cols (2724 bin., 0 int., 0 impl., 10678 cont.), and 22192 nonzeros\n",
      "\n",
      "         0       0         0   0.00%   6342179.073697  6341825.15         0.01%      250      0      0     18500    17.9s\n",
      "         0       0         0   0.00%   6342179.073697  6341825.15         0.01%      250    245      4     18843    17.9s\n",
      " L       0       0         0   0.00%   6342129.849878  6341835.775        0.00%      352    261      4     18858    20.4s\n",
      " L       0       0         0   0.00%   6342108.443508  6341858.75         0.00%      420    274      4     20101    22.9s\n",
      "\n",
      "25.9% inactive integer columns, restarting\n",
      "Model after restart has 4648 rows, 11629 cols (2019 bin., 0 int., 0 impl., 9610 cont.), and 18295 nonzeros\n",
      "\n",
      "         0       0         0   0.00%   6342092.932066  6341858.75         0.00%      243      0      0     21158    23.0s\n",
      "         0       0         0   0.00%   6342092.932066  6341858.75         0.00%      243    236      2     21499    23.0s\n",
      " L       0       0         0   0.00%   6342030.492132  6341867.15         0.00%      367    252      2     23147    27.5s\n",
      "\n",
      "25.5% inactive integer columns, restarting\n",
      "Model after restart has 3612 rows, 10321 cols (1505 bin., 0 int., 0 impl., 8816 cont.), and 15437 nonzeros\n",
      "\n",
      "         0       0         0   0.00%   6342022.349638  6341867.15         0.00%      232      0      0     23947    27.5s\n",
      "         0       0         0   0.00%   6342022.349638  6341867.15         0.00%      232    221      4     24262    27.6s\n",
      "\n",
      "12.2% inactive integer columns, restarting\n",
      "Model after restart has 3248 rows, 9869 cols (1322 bin., 0 int., 0 impl., 8547 cont.), and 14438 nonzeros\n",
      "\n",
      "         0       0         0   0.00%   6341998.624917  6341867.15         0.00%      220      0      0     25595    30.0s\n",
      "\n",
      "        Nodes      |    B&B Tree     |            Objective Bounds              |  Dynamic Constraints |       Work      \n",
      "Src  Proc. InQueue |  Leaves   Expl. | BestBound       BestSol              Gap |   Cuts   InLp Confl. | LpIters     Time\n",
      "\n",
      "         0       0         0   0.00%   6341998.624917  6341867.15         0.00%      220    209      2     25862    30.0s\n",
      "\n",
      "15.1% inactive integer columns, restarting\n",
      "Model after restart has 2849 rows, 9371 cols (1123 bin., 0 int., 0 impl., 8248 cont.), and 13342 nonzeros\n",
      "\n",
      "         0       0         0   0.00%   6341975.591813  6341867.15         0.00%      206      0      0     25881    30.2s\n",
      "         0       0         0   0.00%   6341975.591813  6341867.15         0.00%      206    200      2     26145    30.2s\n",
      "\n",
      "9.4% inactive integer columns, restarting\n",
      "Model after restart has 2634 rows, 9102 cols (1017 bin., 0 int., 0 impl., 8085 cont.), and 12752 nonzeros\n",
      "\n",
      "         0       0         0   0.00%   6341961.745825  6341867.15         0.00%      205      0      0     26203    30.6s\n",
      "         0       0         0   0.00%   6341961.745825  6341867.15         0.00%      205    202      2     26452    30.6s\n",
      "\n",
      "5.3% inactive integer columns, restarting\n",
      "Model after restart has 2528 rows, 8964 cols (963 bin., 0 int., 0 impl., 8001 cont.), and 12454 nonzeros\n",
      "\n",
      "         0       0         0   0.00%   6341955.089586  6341867.15         0.00%      197      0      0     26507    30.9s\n",
      "         0       0         0   0.00%   6341955.089586  6341867.15         0.00%      197    193      2     26739    30.9s\n",
      "        17       0         3 100.00%   6341930.029536  6341867.15         0.00%      472    210    576     27015    33.0s\n",
      "\n",
      "Solving report\n",
      "  Status            Optimal\n",
      "  Primal bound      6341867.15\n",
      "  Dual bound        6341930.02954\n",
      "  Gap               0.000991% (tolerance: 0.001%)\n",
      "  P-D integral      0.00495742976886\n",
      "  Solution status   feasible\n",
      "                    6341867.15 (objective)\n",
      "                    0 (bound viol.)\n",
      "                    2.00174529249e-12 (int. viol.)\n",
      "                    0 (row viol.)\n",
      "  Timing            33.04 (total)\n",
      "                    0.00 (presolve)\n",
      "                    0.00 (solve)\n",
      "                    0.00 (postsolve)\n",
      "  Max sub-MIP depth 10\n",
      "  Nodes             17\n",
      "  Repair LPs        0 (0 feasible; 0 iterations)\n",
      "  LP iterations     27015 (total)\n",
      "                    119 (strong br.)\n",
      "                    942 (separation)\n",
      "                    12150 (heuristics)\n"
     ]
    }
   ],
   "execution_count": 56
  },
  {
   "metadata": {
    "ExecuteTime": {
     "end_time": "2025-05-20T15:32:13.768990Z",
     "start_time": "2025-05-20T15:32:00.722142Z"
    }
   },
   "cell_type": "code",
   "source": [
    "m.write('unit_commitment_problem.lp')\n",
    "m.write('unit_commitment_problem.mps')\n",
    "m.Turb.solution.write_csv('turbine.csv')\n",
    "m.Storage_level.solution.write_csv('storage.csv')\n",
    "m.Pump.solution.write_csv('pump.csv')"
   ],
   "id": "dc1cff2b7074b65d",
   "outputs": [
    {
     "name": "stdout",
     "output_type": "stream",
     "text": [
      "Writing the model to unit_commitment_problem.lp\n",
      "Writing the model to unit_commitment_problem.mps\n"
     ]
    }
   ],
   "execution_count": 57
  }
 ],
 "metadata": {
  "kernelspec": {
   "display_name": "Python 3",
   "language": "python",
   "name": "python3"
  },
  "language_info": {
   "codemirror_mode": {
    "name": "ipython",
    "version": 2
   },
   "file_extension": ".py",
   "mimetype": "text/x-python",
   "name": "python",
   "nbconvert_exporter": "python",
   "pygments_lexer": "ipython2",
   "version": "2.7.6"
  }
 },
 "nbformat": 4,
 "nbformat_minor": 5
}
