{
 "cells": [
  {
   "metadata": {},
   "cell_type": "markdown",
   "source": [
    "Production planning problem from book Operations Research - A Model-Baesed Approach 3rd Edition by H.A Eiselt and Carl-Louis Sandblom, chapter 2.2.1, page 20\n",
    "\n"
   ],
   "id": "b48a4f8b8081bb38"
  },
  {
   "metadata": {
    "ExecuteTime": {
     "end_time": "2025-06-25T16:04:47.393753Z",
     "start_time": "2025-06-25T16:04:47.322717Z"
    }
   },
   "cell_type": "code",
   "source": [
    "import polars as pl\n",
    "\n",
    "processing_times = pl.read_csv(\"processing_times.csv\")\n",
    "processing_times"
   ],
   "id": "38f87ae54ed173c0",
   "outputs": [
    {
     "data": {
      "text/plain": [
       "shape: (6, 3)\n",
       "┌──────────┬──────────┬──────────────────┐\n",
       "│ machines ┆ products ┆ processing_times │\n",
       "│ ---      ┆ ---      ┆ ---              │\n",
       "│ i64      ┆ i64      ┆ i64              │\n",
       "╞══════════╪══════════╪══════════════════╡\n",
       "│ 1        ┆ 1        ┆ 3                │\n",
       "│ 1        ┆ 2        ┆ 5                │\n",
       "│ 1        ┆ 3        ┆ 4                │\n",
       "│ 2        ┆ 1        ┆ 6                │\n",
       "│ 2        ┆ 2        ┆ 1                │\n",
       "│ 2        ┆ 3        ┆ 3                │\n",
       "└──────────┴──────────┴──────────────────┘"
      ],
      "text/html": [
       "<div><style>\n",
       ".dataframe > thead > tr,\n",
       ".dataframe > tbody > tr {\n",
       "  text-align: right;\n",
       "  white-space: pre-wrap;\n",
       "}\n",
       "</style>\n",
       "<small>shape: (6, 3)</small><table border=\"1\" class=\"dataframe\"><thead><tr><th>machines</th><th>products</th><th>processing_times</th></tr><tr><td>i64</td><td>i64</td><td>i64</td></tr></thead><tbody><tr><td>1</td><td>1</td><td>3</td></tr><tr><td>1</td><td>2</td><td>5</td></tr><tr><td>1</td><td>3</td><td>4</td></tr><tr><td>2</td><td>1</td><td>6</td></tr><tr><td>2</td><td>2</td><td>1</td></tr><tr><td>2</td><td>3</td><td>3</td></tr></tbody></table></div>"
      ]
     },
     "execution_count": 1,
     "metadata": {},
     "output_type": "execute_result"
    }
   ],
   "execution_count": 1
  },
  {
   "metadata": {
    "ExecuteTime": {
     "end_time": "2025-06-25T16:04:47.527619Z",
     "start_time": "2025-06-25T16:04:47.524503Z"
    }
   },
   "cell_type": "code",
   "source": [
    "machines_availability = pl.read_csv('machines_availability.csv')\n",
    "machines_availability"
   ],
   "id": "eeea6e568aad89c7",
   "outputs": [
    {
     "data": {
      "text/plain": [
       "shape: (2, 2)\n",
       "┌──────────┬───────────────────────┐\n",
       "│ machines ┆ machines_availability │\n",
       "│ ---      ┆ ---                   │\n",
       "│ i64      ┆ i64                   │\n",
       "╞══════════╪═══════════════════════╡\n",
       "│ 1        ┆ 540                   │\n",
       "│ 2        ┆ 480                   │\n",
       "└──────────┴───────────────────────┘"
      ],
      "text/html": [
       "<div><style>\n",
       ".dataframe > thead > tr,\n",
       ".dataframe > tbody > tr {\n",
       "  text-align: right;\n",
       "  white-space: pre-wrap;\n",
       "}\n",
       "</style>\n",
       "<small>shape: (2, 2)</small><table border=\"1\" class=\"dataframe\"><thead><tr><th>machines</th><th>machines_availability</th></tr><tr><td>i64</td><td>i64</td></tr></thead><tbody><tr><td>1</td><td>540</td></tr><tr><td>2</td><td>480</td></tr></tbody></table></div>"
      ]
     },
     "execution_count": 2,
     "metadata": {},
     "output_type": "execute_result"
    }
   ],
   "execution_count": 2
  },
  {
   "metadata": {
    "ExecuteTime": {
     "end_time": "2025-06-25T16:04:47.558961Z",
     "start_time": "2025-06-25T16:04:47.556066Z"
    }
   },
   "cell_type": "code",
   "source": [
    "products_profit = pl.read_csv(\"products_profit.csv\")\n",
    "products_profit"
   ],
   "id": "1e2b72b116e055e6",
   "outputs": [
    {
     "data": {
      "text/plain": [
       "shape: (3, 2)\n",
       "┌──────────┬─────────────────┐\n",
       "│ products ┆ products_profit │\n",
       "│ ---      ┆ ---             │\n",
       "│ i64      ┆ f64             │\n",
       "╞══════════╪═════════════════╡\n",
       "│ 1        ┆ 5.0             │\n",
       "│ 2        ┆ 3.5             │\n",
       "│ 3        ┆ 4.5             │\n",
       "└──────────┴─────────────────┘"
      ],
      "text/html": [
       "<div><style>\n",
       ".dataframe > thead > tr,\n",
       ".dataframe > tbody > tr {\n",
       "  text-align: right;\n",
       "  white-space: pre-wrap;\n",
       "}\n",
       "</style>\n",
       "<small>shape: (3, 2)</small><table border=\"1\" class=\"dataframe\"><thead><tr><th>products</th><th>products_profit</th></tr><tr><td>i64</td><td>f64</td></tr></thead><tbody><tr><td>1</td><td>5.0</td></tr><tr><td>2</td><td>3.5</td></tr><tr><td>3</td><td>4.5</td></tr></tbody></table></div>"
      ]
     },
     "execution_count": 3,
     "metadata": {},
     "output_type": "execute_result"
    }
   ],
   "execution_count": 3
  },
  {
   "metadata": {
    "ExecuteTime": {
     "end_time": "2025-06-25T16:04:48.495959Z",
     "start_time": "2025-06-25T16:04:47.593048Z"
    }
   },
   "cell_type": "code",
   "source": [
    "import pyoframe as pf\n",
    "\n",
    "m = pf.Model('production_planning_pyoframe', solver='highs')\n",
    "\n",
    "m.Production = pf.Variable(products_profit[['products']], lb=0)\n",
    "\n",
    "m.Production\n"
   ],
   "id": "eda1a2c44552bb3b",
   "outputs": [
    {
     "name": "stdout",
     "output_type": "stream",
     "text": [
      "Running HiGHS 1.11.0 (git hash: 364c83a): Copyright (c) 2025 HiGHS under MIT licence terms\n"
     ]
    },
    {
     "data": {
      "text/plain": [
       "<Variable name=Production lb=0 size=3 dimensions={'products': 3}>\n",
       "[1]: Production[1]\n",
       "[2]: Production[2]\n",
       "[3]: Production[3]"
      ]
     },
     "execution_count": 4,
     "metadata": {},
     "output_type": "execute_result"
    }
   ],
   "execution_count": 4
  },
  {
   "metadata": {
    "ExecuteTime": {
     "end_time": "2025-06-25T16:04:48.529601Z",
     "start_time": "2025-06-25T16:04:48.517675Z"
    }
   },
   "cell_type": "code",
   "source": [
    "machine_usage = m.Production * processing_times\n",
    "machine_usage"
   ],
   "id": "fdc2d90aca1498e9",
   "outputs": [
    {
     "data": {
      "text/plain": [
       "<Expression size=6 dimensions={'products': 3, 'machines': 2} terms=6>\n",
       "[1,1]: 3 Production[1]\n",
       "[2,1]: 5 Production[2]\n",
       "[3,1]: 4 Production[3]\n",
       "[1,2]: 6 Production[1]\n",
       "[2,2]: Production[2]\n",
       "[3,2]: 3 Production[3]"
      ]
     },
     "execution_count": 5,
     "metadata": {},
     "output_type": "execute_result"
    }
   ],
   "execution_count": 5
  },
  {
   "metadata": {
    "ExecuteTime": {
     "end_time": "2025-06-25T16:04:48.556001Z",
     "start_time": "2025-06-25T16:04:48.543202Z"
    }
   },
   "cell_type": "code",
   "source": [
    "\n",
    "m.machine_capacity = pf.sum_by('machines', machine_usage) <= machines_availability\n",
    "m.machine_capacity"
   ],
   "id": "5c708cfbdf16236e",
   "outputs": [
    {
     "data": {
      "text/plain": [
       "<Constraint name=machine_capacity sense='<=' size=2 dimensions={'machines': 2} terms=8>\n",
       "[1]: 3 Production[1] +5 Production[2] +4 Production[3] <= 540\n",
       "[2]: 6 Production[1] + Production[2] +3 Production[3] <= 480"
      ]
     },
     "execution_count": 6,
     "metadata": {},
     "output_type": "execute_result"
    }
   ],
   "execution_count": 6
  },
  {
   "metadata": {
    "ExecuteTime": {
     "end_time": "2025-06-25T16:04:48.582280Z",
     "start_time": "2025-06-25T16:04:48.576736Z"
    }
   },
   "cell_type": "code",
   "source": [
    "total_profit_per_product = products_profit * m.Production\n",
    "total_profit_per_product"
   ],
   "id": "e3eac20fe13adc12",
   "outputs": [
    {
     "data": {
      "text/plain": [
       "<Expression size=3 dimensions={'products': 3} terms=3>\n",
       "[1]: 5 Production[1]\n",
       "[2]: 3.5 Production[2]\n",
       "[3]: 4.5 Production[3]"
      ]
     },
     "execution_count": 7,
     "metadata": {},
     "output_type": "execute_result"
    }
   ],
   "execution_count": 7
  },
  {
   "metadata": {
    "ExecuteTime": {
     "end_time": "2025-06-25T16:04:48.604107Z",
     "start_time": "2025-06-25T16:04:48.598051Z"
    }
   },
   "cell_type": "code",
   "source": [
    "m.maximize = pf.sum(total_profit_per_product)\n",
    "m.objective"
   ],
   "id": "62b9885cd9182ef5",
   "outputs": [
    {
     "name": "stdout",
     "output_type": "stream",
     "text": [
      "Hessian has dimension 4 but no nonzeros, so is ignored\n"
     ]
    },
    {
     "data": {
      "text/plain": [
       "<Objective size=1 dimensions={} terms=3>\n",
       "objective: 5 Production[1] +3.5 Production[2] +4.5 Production[3]"
      ]
     },
     "execution_count": 8,
     "metadata": {},
     "output_type": "execute_result"
    }
   ],
   "execution_count": 8
  },
  {
   "metadata": {
    "ExecuteTime": {
     "end_time": "2025-06-25T16:04:48.619332Z",
     "start_time": "2025-06-25T16:04:48.614226Z"
    }
   },
   "cell_type": "code",
   "source": [
    "m.optimize()\n",
    "m.Production.solution"
   ],
   "id": "571d56fdb5de094f",
   "outputs": [
    {
     "name": "stdout",
     "output_type": "stream",
     "text": [
      "LP   has 2 rows; 4 cols; 8 nonzeros\n",
      "Coefficient ranges:\n",
      "  Matrix [1e+00, 5e+02]\n",
      "  Cost   [4e+00, 5e+00]\n",
      "  Bound  [1e+00, 1e+00]\n",
      "  RHS    [0e+00, 0e+00]\n",
      "Presolving model\n",
      "2 rows, 3 cols, 6 nonzeros  0s\n",
      "2 rows, 3 cols, 6 nonzeros  0s\n",
      "Presolve : Reductions: rows 2(-0); columns 3(-1); elements 6(-2)\n",
      "Solving the presolved LP\n",
      "Using EKK dual simplex solver - serial\n",
      "  Iteration        Objective     Infeasibilities num(sum)\n",
      "          0    -4.1249939713e+00 Ph1: 2(7); Du: 3(4.12499) 0s\n",
      "          2    -6.4000000000e+02 Pr: 0(0) 0s\n",
      "Solving the original LP from the solution after postsolve\n",
      "Model status        : Optimal\n",
      "Simplex   iterations: 2\n",
      "Objective value     :  6.4000000000e+02\n",
      "P-D objective error :  0.0000000000e+00\n",
      "HiGHS run time      :          0.00\n"
     ]
    },
    {
     "data": {
      "text/plain": [
       "shape: (3, 2)\n",
       "┌──────────┬──────────┐\n",
       "│ products ┆ solution │\n",
       "│ ---      ┆ ---      │\n",
       "│ i64      ┆ f64      │\n",
       "╞══════════╪══════════╡\n",
       "│ 1        ┆ 20.0     │\n",
       "│ 2        ┆ 0.0      │\n",
       "│ 3        ┆ 120.0    │\n",
       "└──────────┴──────────┘"
      ],
      "text/html": [
       "<div><style>\n",
       ".dataframe > thead > tr,\n",
       ".dataframe > tbody > tr {\n",
       "  text-align: right;\n",
       "  white-space: pre-wrap;\n",
       "}\n",
       "</style>\n",
       "<small>shape: (3, 2)</small><table border=\"1\" class=\"dataframe\"><thead><tr><th>products</th><th>solution</th></tr><tr><td>i64</td><td>f64</td></tr></thead><tbody><tr><td>1</td><td>20.0</td></tr><tr><td>2</td><td>0.0</td></tr><tr><td>3</td><td>120.0</td></tr></tbody></table></div>"
      ]
     },
     "execution_count": 9,
     "metadata": {},
     "output_type": "execute_result"
    }
   ],
   "execution_count": 9
  },
  {
   "metadata": {
    "ExecuteTime": {
     "end_time": "2025-06-25T16:04:48.644822Z",
     "start_time": "2025-06-25T16:04:48.642909Z"
    }
   },
   "cell_type": "code",
   "source": "m.objective.value",
   "id": "f885fb5ea4399c0a",
   "outputs": [
    {
     "data": {
      "text/plain": [
       "640.0"
      ]
     },
     "execution_count": 10,
     "metadata": {},
     "output_type": "execute_result"
    }
   ],
   "execution_count": 10
  },
  {
   "metadata": {
    "ExecuteTime": {
     "end_time": "2025-06-25T16:04:48.668548Z",
     "start_time": "2025-06-25T16:04:48.665764Z"
    }
   },
   "cell_type": "code",
   "source": "m.machine_capacity.dual",
   "id": "2eae6ad477aafd85",
   "outputs": [
    {
     "data": {
      "text/plain": [
       "shape: (2, 2)\n",
       "┌──────────┬──────────┐\n",
       "│ machines ┆ dual     │\n",
       "│ ---      ┆ ---      │\n",
       "│ i64      ┆ f64      │\n",
       "╞══════════╪══════════╡\n",
       "│ 1        ┆ 0.8      │\n",
       "│ 2        ┆ 0.433333 │\n",
       "└──────────┴──────────┘"
      ],
      "text/html": [
       "<div><style>\n",
       ".dataframe > thead > tr,\n",
       ".dataframe > tbody > tr {\n",
       "  text-align: right;\n",
       "  white-space: pre-wrap;\n",
       "}\n",
       "</style>\n",
       "<small>shape: (2, 2)</small><table border=\"1\" class=\"dataframe\"><thead><tr><th>machines</th><th>dual</th></tr><tr><td>i64</td><td>f64</td></tr></thead><tbody><tr><td>1</td><td>0.8</td></tr><tr><td>2</td><td>0.433333</td></tr></tbody></table></div>"
      ]
     },
     "execution_count": 11,
     "metadata": {},
     "output_type": "execute_result"
    }
   ],
   "execution_count": 11
  },
  {
   "metadata": {
    "ExecuteTime": {
     "end_time": "2025-06-25T16:04:48.703635Z",
     "start_time": "2025-06-25T16:04:48.701650Z"
    }
   },
   "cell_type": "code",
   "source": "m.Production.attr",
   "id": "545375823c7164e",
   "outputs": [
    {
     "data": {
      "text/plain": [
       "<pyoframe.util.Container at 0x1279360d0>"
      ]
     },
     "execution_count": 12,
     "metadata": {},
     "output_type": "execute_result"
    }
   ],
   "execution_count": 12
  },
  {
   "metadata": {
    "ExecuteTime": {
     "end_time": "2025-06-25T16:04:48.728265Z",
     "start_time": "2025-06-25T16:04:48.726124Z"
    }
   },
   "cell_type": "code",
   "source": "m.machine_capacity.attr",
   "id": "4c56237c006214e8",
   "outputs": [
    {
     "data": {
      "text/plain": [
       "<pyoframe.util.Container at 0x127907e10>"
      ]
     },
     "execution_count": 13,
     "metadata": {},
     "output_type": "execute_result"
    }
   ],
   "execution_count": 13
  },
  {
   "metadata": {
    "ExecuteTime": {
     "end_time": "2025-06-25T16:04:48.757150Z",
     "start_time": "2025-06-25T16:04:48.754953Z"
    }
   },
   "cell_type": "code",
   "source": "m.attr",
   "id": "34e13c9162d7c255",
   "outputs": [
    {
     "data": {
      "text/plain": [
       "<pyoframe.util.Container at 0x127935e50>"
      ]
     },
     "execution_count": 14,
     "metadata": {},
     "output_type": "execute_result"
    }
   ],
   "execution_count": 14
  },
  {
   "metadata": {
    "ExecuteTime": {
     "end_time": "2025-06-25T16:04:48.781576Z",
     "start_time": "2025-06-25T16:04:48.777573Z"
    }
   },
   "cell_type": "code",
   "source": "machine_usage.sum(\"products\").evaluate()",
   "id": "abb0ead723956656",
   "outputs": [
    {
     "data": {
      "text/plain": [
       "shape: (2, 2)\n",
       "┌──────────┬──────────┐\n",
       "│ machines ┆ solution │\n",
       "│ ---      ┆ ---      │\n",
       "│ i64      ┆ f64      │\n",
       "╞══════════╪══════════╡\n",
       "│ 1        ┆ 540.0    │\n",
       "│ 2        ┆ 480.0    │\n",
       "└──────────┴──────────┘"
      ],
      "text/html": [
       "<div><style>\n",
       ".dataframe > thead > tr,\n",
       ".dataframe > tbody > tr {\n",
       "  text-align: right;\n",
       "  white-space: pre-wrap;\n",
       "}\n",
       "</style>\n",
       "<small>shape: (2, 2)</small><table border=\"1\" class=\"dataframe\"><thead><tr><th>machines</th><th>solution</th></tr><tr><td>i64</td><td>f64</td></tr></thead><tbody><tr><td>1</td><td>540.0</td></tr><tr><td>2</td><td>480.0</td></tr></tbody></table></div>"
      ]
     },
     "execution_count": 15,
     "metadata": {},
     "output_type": "execute_result"
    }
   ],
   "execution_count": 15
  },
  {
   "metadata": {
    "ExecuteTime": {
     "end_time": "2025-06-25T16:04:48.808089Z",
     "start_time": "2025-06-25T16:04:48.804870Z"
    }
   },
   "cell_type": "code",
   "source": "total_profit_per_product.evaluate()",
   "id": "4ce692d59b4e6e97",
   "outputs": [
    {
     "data": {
      "text/plain": [
       "shape: (3, 2)\n",
       "┌──────────┬──────────┐\n",
       "│ products ┆ solution │\n",
       "│ ---      ┆ ---      │\n",
       "│ i64      ┆ f64      │\n",
       "╞══════════╪══════════╡\n",
       "│ 1        ┆ 100.0    │\n",
       "│ 2        ┆ 0.0      │\n",
       "│ 3        ┆ 540.0    │\n",
       "└──────────┴──────────┘"
      ],
      "text/html": [
       "<div><style>\n",
       ".dataframe > thead > tr,\n",
       ".dataframe > tbody > tr {\n",
       "  text-align: right;\n",
       "  white-space: pre-wrap;\n",
       "}\n",
       "</style>\n",
       "<small>shape: (3, 2)</small><table border=\"1\" class=\"dataframe\"><thead><tr><th>products</th><th>solution</th></tr><tr><td>i64</td><td>f64</td></tr></thead><tbody><tr><td>1</td><td>100.0</td></tr><tr><td>2</td><td>0.0</td></tr><tr><td>3</td><td>540.0</td></tr></tbody></table></div>"
      ]
     },
     "execution_count": 16,
     "metadata": {},
     "output_type": "execute_result"
    }
   ],
   "execution_count": 16
  }
 ],
 "metadata": {
  "kernelspec": {
   "display_name": "Python 3",
   "language": "python",
   "name": "python3"
  },
  "language_info": {
   "codemirror_mode": {
    "name": "ipython",
    "version": 2
   },
   "file_extension": ".py",
   "mimetype": "text/x-python",
   "name": "python",
   "nbconvert_exporter": "python",
   "pygments_lexer": "ipython2",
   "version": "2.7.6"
  }
 },
 "nbformat": 4,
 "nbformat_minor": 5
}
