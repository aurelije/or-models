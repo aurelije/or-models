{
 "cells": [
  {
   "metadata": {},
   "cell_type": "markdown",
   "source": [
    "Production planning problem from book Operations Research - A Model-Baesed Approach 3rd Edition by H.A Eiselt and Carl-Louis Sandblom\n",
    "\n"
   ],
   "id": "8990004fdb33b460"
  },
  {
   "metadata": {
    "ExecuteTime": {
     "end_time": "2025-04-14T07:55:22.433108Z",
     "start_time": "2025-04-14T07:55:22.426179Z"
    }
   },
   "cell_type": "code",
   "source": [
    "import polars as pl\n",
    "\n",
    "processing_times = pl.read_csv(\"processing_times.csv\")\n",
    "machines_availability = pl.read_csv('machines_availability.csv')\n",
    "products_profit = pl.read_csv(\"products_profit.csv\")"
   ],
   "id": "f342df035a278c39",
   "outputs": [],
   "execution_count": 19
  },
  {
   "metadata": {
    "ExecuteTime": {
     "end_time": "2025-04-14T07:57:41.784440Z",
     "start_time": "2025-04-14T07:57:41.696075Z"
    }
   },
   "cell_type": "code",
   "source": [
    "import pyoframe as pf\n",
    "\n",
    "m = pf.Model('production_planning_pyoframe', solver='gurobi')\n",
    "\n",
    "m.Production = pf.Variable(products_profit[['products']], lb=0)\n",
    "\n",
    "m.Production.data\n"
   ],
   "id": "460c04934344480e",
   "outputs": [
    {
     "data": {
      "text/plain": [
       "shape: (3, 2)\n",
       "┌──────────┬───────────────┐\n",
       "│ products ┆ __variable_id │\n",
       "│ ---      ┆ ---           │\n",
       "│ i64      ┆ u32           │\n",
       "╞══════════╪═══════════════╡\n",
       "│ 1        ┆ 1             │\n",
       "│ 2        ┆ 2             │\n",
       "│ 3        ┆ 3             │\n",
       "└──────────┴───────────────┘"
      ],
      "text/html": [
       "<div><style>\n",
       ".dataframe > thead > tr,\n",
       ".dataframe > tbody > tr {\n",
       "  text-align: right;\n",
       "  white-space: pre-wrap;\n",
       "}\n",
       "</style>\n",
       "<small>shape: (3, 2)</small><table border=\"1\" class=\"dataframe\"><thead><tr><th>products</th><th>__variable_id</th></tr><tr><td>i64</td><td>u32</td></tr></thead><tbody><tr><td>1</td><td>1</td></tr><tr><td>2</td><td>2</td></tr><tr><td>3</td><td>3</td></tr></tbody></table></div>"
      ]
     },
     "execution_count": 26,
     "metadata": {},
     "output_type": "execute_result"
    }
   ],
   "execution_count": 26
  },
  {
   "metadata": {
    "ExecuteTime": {
     "end_time": "2025-04-14T07:58:19.815368Z",
     "start_time": "2025-04-14T07:58:19.807987Z"
    }
   },
   "cell_type": "code",
   "source": [
    "machine_usage = m.Production * processing_times\n",
    "machine_usage"
   ],
   "id": "3b7e4d7e158eb883",
   "outputs": [
    {
     "data": {
      "text/plain": [
       "<Expression size=6 dimensions={'products': 3, 'machines': 2} terms=6>\n",
       "[1,1]: 3 Production[1]\n",
       "[2,1]: 5 Production[2]\n",
       "[3,1]: 4 Production[3]\n",
       "[1,2]: 6 Production[1]\n",
       "[2,2]: Production[2]\n",
       "[3,2]: 3 Production[3]"
      ]
     },
     "execution_count": 27,
     "metadata": {},
     "output_type": "execute_result"
    }
   ],
   "execution_count": 27
  },
  {
   "metadata": {
    "ExecuteTime": {
     "end_time": "2025-04-14T07:58:22.257508Z",
     "start_time": "2025-04-14T07:58:22.251285Z"
    }
   },
   "cell_type": "code",
   "source": [
    "\n",
    "m.machine_capacity = pf.sum_by('machines', machine_usage) <= machines_availability\n",
    "m.machine_capacity.data"
   ],
   "id": "89a131b50b129d82",
   "outputs": [
    {
     "data": {
      "text/plain": [
       "shape: (2, 2)\n",
       "┌──────────┬─────────────────┐\n",
       "│ machines ┆ __constraint_id │\n",
       "│ ---      ┆ ---             │\n",
       "│ i64      ┆ u32             │\n",
       "╞══════════╪═════════════════╡\n",
       "│ 1        ┆ 0               │\n",
       "│ 2        ┆ 1               │\n",
       "└──────────┴─────────────────┘"
      ],
      "text/html": [
       "<div><style>\n",
       ".dataframe > thead > tr,\n",
       ".dataframe > tbody > tr {\n",
       "  text-align: right;\n",
       "  white-space: pre-wrap;\n",
       "}\n",
       "</style>\n",
       "<small>shape: (2, 2)</small><table border=\"1\" class=\"dataframe\"><thead><tr><th>machines</th><th>__constraint_id</th></tr><tr><td>i64</td><td>u32</td></tr></thead><tbody><tr><td>1</td><td>0</td></tr><tr><td>2</td><td>1</td></tr></tbody></table></div>"
      ]
     },
     "execution_count": 28,
     "metadata": {},
     "output_type": "execute_result"
    }
   ],
   "execution_count": 28
  },
  {
   "metadata": {
    "ExecuteTime": {
     "end_time": "2025-04-14T07:55:55.350819Z",
     "start_time": "2025-04-14T07:55:55.343114Z"
    }
   },
   "cell_type": "code",
   "source": [
    "total_profit_per_product = products_profit * m.Production\n",
    "total_profit_per_product"
   ],
   "id": "22fcf512bb994a79",
   "outputs": [
    {
     "data": {
      "text/plain": [
       "<Expression size=3 dimensions={'products': 3} terms=3>\n",
       "[1]: 5 Production[1]\n",
       "[2]: 3.5 Production[2]\n",
       "[3]: 4.5 Production[3]"
      ]
     },
     "execution_count": 23,
     "metadata": {},
     "output_type": "execute_result"
    }
   ],
   "execution_count": 23
  },
  {
   "metadata": {
    "ExecuteTime": {
     "end_time": "2025-04-14T07:55:57.040860Z",
     "start_time": "2025-04-14T07:55:56.975851Z"
    }
   },
   "cell_type": "code",
   "source": [
    "m.maximize = pf.sum(total_profit_per_product)\n",
    "m.objective"
   ],
   "id": "95fb302336651408",
   "outputs": [
    {
     "data": {
      "text/plain": [
       "<Objective size=1 dimensions={} terms=3>\n",
       "objective: 5 Production[1] +3.5 Production[2] +4.5 Production[3]"
      ]
     },
     "execution_count": 24,
     "metadata": {},
     "output_type": "execute_result"
    }
   ],
   "execution_count": 24
  },
  {
   "metadata": {
    "ExecuteTime": {
     "end_time": "2025-04-14T07:55:58.719643Z",
     "start_time": "2025-04-14T07:55:58.616044Z"
    }
   },
   "cell_type": "code",
   "source": [
    "m.optimize()\n",
    "m.Production.solution"
   ],
   "id": "3b65eec0eb60718c",
   "outputs": [
    {
     "name": "stdout",
     "output_type": "stream",
     "text": [
      "Gurobi Optimizer version 12.0.1 build v12.0.1rc0 (mac64[arm] - Darwin 24.4.0 24E248)\n",
      "Gurobi Compute Server Worker version 12.0.1 build v12.0.1rc0 (linux64 - \"Ubuntu 20.04.6 LTS\")\n",
      "\n",
      "CPU model: Intel(R) Xeon(R) Platinum 8375C CPU @ 2.90GHz, instruction set [SSE2|AVX|AVX2|AVX512]\n",
      "Thread count: 2 physical cores, 4 logical processors, using up to 4 threads\n",
      "\n",
      "Optimize a model with 2 rows, 4 columns and 8 nonzeros\n",
      "Model fingerprint: 0x16838762\n",
      "Coefficient statistics:\n",
      "  Matrix range     [1e+00, 5e+02]\n",
      "  Objective range  [4e+00, 5e+00]\n",
      "  Bounds range     [1e+00, 1e+00]\n",
      "  RHS range        [0e+00, 0e+00]\n",
      "Presolve removed 0 rows and 1 columns\n",
      "Presolve time: 0.00s\n",
      "Presolved: 2 rows, 3 columns, 6 nonzeros\n",
      "\n",
      "Iteration    Objective       Primal Inf.    Dual Inf.      Time\n",
      "       0    9.0000000e+02   8.745950e+01   0.000000e+00      0s\n",
      "       2    6.4000000e+02   0.000000e+00   0.000000e+00      0s\n",
      "\n",
      "Solved in 2 iterations and 0.00 seconds (0.00 work units)\n",
      "Optimal objective  6.400000000e+02\n"
     ]
    },
    {
     "data": {
      "text/plain": [
       "shape: (3, 2)\n",
       "┌──────────┬──────────┐\n",
       "│ products ┆ solution │\n",
       "│ ---      ┆ ---      │\n",
       "│ i64      ┆ f64      │\n",
       "╞══════════╪══════════╡\n",
       "│ 1        ┆ 20.0     │\n",
       "│ 2        ┆ 0.0      │\n",
       "│ 3        ┆ 120.0    │\n",
       "└──────────┴──────────┘"
      ],
      "text/html": [
       "<div><style>\n",
       ".dataframe > thead > tr,\n",
       ".dataframe > tbody > tr {\n",
       "  text-align: right;\n",
       "  white-space: pre-wrap;\n",
       "}\n",
       "</style>\n",
       "<small>shape: (3, 2)</small><table border=\"1\" class=\"dataframe\"><thead><tr><th>products</th><th>solution</th></tr><tr><td>i64</td><td>f64</td></tr></thead><tbody><tr><td>1</td><td>20.0</td></tr><tr><td>2</td><td>0.0</td></tr><tr><td>3</td><td>120.0</td></tr></tbody></table></div>"
      ]
     },
     "execution_count": 25,
     "metadata": {},
     "output_type": "execute_result"
    }
   ],
   "execution_count": 25
  },
  {
   "metadata": {
    "ExecuteTime": {
     "end_time": "2025-03-28T14:26:45.117089Z",
     "start_time": "2025-03-28T14:26:45.022690Z"
    }
   },
   "cell_type": "code",
   "outputs": [],
   "execution_count": 9,
   "source": [
    "import pandas as pd\n",
    "\n",
    "pt: pd.DataFrame = processing_times.to_pandas()\n",
    "from rustpy_xlsxwriter import save_records\n",
    "\n",
    "pt_dict = pt.to_dict(orient='records')\n",
    "save_records(pt_dict, 'processing_times.xlsx')\n"
   ],
   "id": "3a2de9af6955efc9"
  }
 ],
 "metadata": {
  "kernelspec": {
   "display_name": "Python 3",
   "language": "python",
   "name": "python3"
  },
  "language_info": {
   "codemirror_mode": {
    "name": "ipython",
    "version": 2
   },
   "file_extension": ".py",
   "mimetype": "text/x-python",
   "name": "python",
   "nbconvert_exporter": "python",
   "pygments_lexer": "ipython2",
   "version": "2.7.6"
  }
 },
 "nbformat": 4,
 "nbformat_minor": 5
}
