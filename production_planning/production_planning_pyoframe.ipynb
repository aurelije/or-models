{
 "cells": [
  {
   "metadata": {},
   "cell_type": "markdown",
   "source": [
    "Production planning problem from book Operations Research - A Model-Baesed Approach 3rd Edition by H.A Eiselt and Carl-Louis Sandblom, chapter 2.2.1, page 20\n",
    "\n"
   ],
   "id": "b48a4f8b8081bb38"
  },
  {
   "metadata": {
    "ExecuteTime": {
     "end_time": "2025-04-24T08:44:55.467081Z",
     "start_time": "2025-04-24T08:44:54.493104Z"
    }
   },
   "cell_type": "code",
   "source": [
    "import polars as pl\n",
    "\n",
    "processing_times = pl.read_csv(\"processing_times.csv\")\n",
    "machines_availability = pl.read_csv('machines_availability.csv')\n",
    "products_profit = pl.read_csv(\"products_profit.csv\")"
   ],
   "id": "1e2b72b116e055e6",
   "outputs": [],
   "execution_count": 2
  },
  {
   "metadata": {
    "ExecuteTime": {
     "end_time": "2025-04-24T08:44:58.219044Z",
     "start_time": "2025-04-24T08:44:55.486158Z"
    }
   },
   "cell_type": "code",
   "source": [
    "import pyoframe as pf\n",
    "\n",
    "m = pf.Model('production_planning_pyoframe', solver='highs')\n",
    "\n",
    "m.Production = pf.Variable(products_profit[['products']], lb=0)\n",
    "\n",
    "m.Production\n"
   ],
   "id": "eda1a2c44552bb3b",
   "outputs": [
    {
     "name": "stdout",
     "output_type": "stream",
     "text": [
      "Running HiGHS 1.10.0 (git hash: fd86653): Copyright (c) 2025 HiGHS under MIT licence terms\n"
     ]
    },
    {
     "data": {
      "text/plain": [
       "<Variable name=Production lb=0 size=3 dimensions={'products': 3}>\n",
       "[1]: Production[1]\n",
       "[2]: Production[2]\n",
       "[3]: Production[3]"
      ]
     },
     "execution_count": 3,
     "metadata": {},
     "output_type": "execute_result"
    }
   ],
   "execution_count": 3
  },
  {
   "metadata": {
    "ExecuteTime": {
     "end_time": "2025-04-24T08:44:58.234706Z",
     "start_time": "2025-04-24T08:44:58.228213Z"
    }
   },
   "cell_type": "code",
   "source": [
    "machine_usage = m.Production * processing_times\n",
    "machine_usage"
   ],
   "id": "fdc2d90aca1498e9",
   "outputs": [
    {
     "data": {
      "text/plain": [
       "<Expression size=6 dimensions={'products': 3, 'machines': 2} terms=6>\n",
       "[1,1]: 3 Production[1]\n",
       "[2,1]: 5 Production[2]\n",
       "[3,1]: 4 Production[3]\n",
       "[1,2]: 6 Production[1]\n",
       "[2,2]: Production[2]\n",
       "[3,2]: 3 Production[3]"
      ]
     },
     "execution_count": 4,
     "metadata": {},
     "output_type": "execute_result"
    }
   ],
   "execution_count": 4
  },
  {
   "metadata": {
    "ExecuteTime": {
     "end_time": "2025-04-24T08:44:58.269279Z",
     "start_time": "2025-04-24T08:44:58.260922Z"
    }
   },
   "cell_type": "code",
   "source": [
    "\n",
    "m.machine_capacity = pf.sum_by('machines', machine_usage) <= machines_availability\n",
    "m.machine_capacity"
   ],
   "id": "5c708cfbdf16236e",
   "outputs": [
    {
     "data": {
      "text/plain": [
       "<Constraint name=machine_capacity sense='<=' size=2 dimensions={'machines': 2} terms=8>\n",
       "[1]: 3 Production[1] +5 Production[2] +4 Production[3] <= 540\n",
       "[2]: 6 Production[1] + Production[2] +3 Production[3] <= 480"
      ]
     },
     "execution_count": 5,
     "metadata": {},
     "output_type": "execute_result"
    }
   ],
   "execution_count": 5
  },
  {
   "metadata": {
    "ExecuteTime": {
     "end_time": "2025-04-24T08:44:58.304181Z",
     "start_time": "2025-04-24T08:44:58.297022Z"
    }
   },
   "cell_type": "code",
   "source": [
    "total_profit_per_product = products_profit * m.Production\n",
    "total_profit_per_product"
   ],
   "id": "e3eac20fe13adc12",
   "outputs": [
    {
     "data": {
      "text/plain": [
       "<Expression size=3 dimensions={'products': 3} terms=3>\n",
       "[1]: 5 Production[1]\n",
       "[2]: 3.5 Production[2]\n",
       "[3]: 4.5 Production[3]"
      ]
     },
     "execution_count": 6,
     "metadata": {},
     "output_type": "execute_result"
    }
   ],
   "execution_count": 6
  },
  {
   "metadata": {
    "ExecuteTime": {
     "end_time": "2025-04-24T08:44:58.320136Z",
     "start_time": "2025-04-24T08:44:58.314938Z"
    }
   },
   "cell_type": "code",
   "source": [
    "m.maximize = pf.sum(total_profit_per_product)\n",
    "m.objective"
   ],
   "id": "62b9885cd9182ef5",
   "outputs": [
    {
     "name": "stdout",
     "output_type": "stream",
     "text": [
      "Hessian has dimension 4 but no nonzeros, so is ignored\n"
     ]
    },
    {
     "data": {
      "text/plain": [
       "<Objective size=1 dimensions={} terms=3>\n",
       "objective: 5 Production[1] +3.5 Production[2] +4.5 Production[3]"
      ]
     },
     "execution_count": 7,
     "metadata": {},
     "output_type": "execute_result"
    }
   ],
   "execution_count": 7
  },
  {
   "metadata": {
    "ExecuteTime": {
     "end_time": "2025-04-24T08:44:58.351921Z",
     "start_time": "2025-04-24T08:44:58.347647Z"
    }
   },
   "cell_type": "code",
   "source": [
    "m.optimize()\n",
    "m.Production.solution"
   ],
   "id": "571d56fdb5de094f",
   "outputs": [
    {
     "name": "stdout",
     "output_type": "stream",
     "text": [
      "LP   has 2 rows; 4 cols; 8 nonzeros\n",
      "Coefficient ranges:\n",
      "  Matrix [1e+00, 5e+02]\n",
      "  Cost   [4e+00, 5e+00]\n",
      "  Bound  [1e+00, 1e+00]\n",
      "  RHS    [0e+00, 0e+00]\n",
      "Presolving model\n",
      "2 rows, 3 cols, 6 nonzeros  0s\n",
      "2 rows, 3 cols, 6 nonzeros  0s\n",
      "Presolve : Reductions: rows 2(-0); columns 3(-1); elements 6(-2)\n",
      "Solving the presolved LP\n",
      "Using EKK dual simplex solver - serial\n",
      "  Iteration        Objective     Infeasibilities num(sum)\n",
      "          0    -4.1249939713e+00 Ph1: 2(7); Du: 3(4.12499) 0s\n",
      "          2    -6.4000000000e+02 Pr: 0(0) 0s\n",
      "Solving the original LP from the solution after postsolve\n",
      "Model status        : Optimal\n",
      "Simplex   iterations: 2\n",
      "Objective value     :  6.4000000000e+02\n",
      "Relative P-D gap    :  0.0000000000e+00\n",
      "HiGHS run time      :          0.00\n"
     ]
    },
    {
     "data": {
      "text/plain": [
       "shape: (3, 2)\n",
       "┌──────────┬──────────┐\n",
       "│ products ┆ solution │\n",
       "│ ---      ┆ ---      │\n",
       "│ i64      ┆ f64      │\n",
       "╞══════════╪══════════╡\n",
       "│ 1        ┆ 20.0     │\n",
       "│ 2        ┆ 0.0      │\n",
       "│ 3        ┆ 120.0    │\n",
       "└──────────┴──────────┘"
      ],
      "text/html": [
       "<div><style>\n",
       ".dataframe > thead > tr,\n",
       ".dataframe > tbody > tr {\n",
       "  text-align: right;\n",
       "  white-space: pre-wrap;\n",
       "}\n",
       "</style>\n",
       "<small>shape: (3, 2)</small><table border=\"1\" class=\"dataframe\"><thead><tr><th>products</th><th>solution</th></tr><tr><td>i64</td><td>f64</td></tr></thead><tbody><tr><td>1</td><td>20.0</td></tr><tr><td>2</td><td>0.0</td></tr><tr><td>3</td><td>120.0</td></tr></tbody></table></div>"
      ]
     },
     "execution_count": 8,
     "metadata": {},
     "output_type": "execute_result"
    }
   ],
   "execution_count": 8
  },
  {
   "metadata": {
    "ExecuteTime": {
     "end_time": "2025-04-24T15:28:43.823468Z",
     "start_time": "2025-04-24T15:28:43.817992Z"
    }
   },
   "cell_type": "code",
   "source": "m.objective.value",
   "id": "f885fb5ea4399c0a",
   "outputs": [
    {
     "data": {
      "text/plain": [
       "640.0"
      ]
     },
     "execution_count": 9,
     "metadata": {},
     "output_type": "execute_result"
    }
   ],
   "execution_count": 9
  }
 ],
 "metadata": {
  "kernelspec": {
   "display_name": "Python 3",
   "language": "python",
   "name": "python3"
  },
  "language_info": {
   "codemirror_mode": {
    "name": "ipython",
    "version": 2
   },
   "file_extension": ".py",
   "mimetype": "text/x-python",
   "name": "python",
   "nbconvert_exporter": "python",
   "pygments_lexer": "ipython2",
   "version": "2.7.6"
  }
 },
 "nbformat": 4,
 "nbformat_minor": 5
}
